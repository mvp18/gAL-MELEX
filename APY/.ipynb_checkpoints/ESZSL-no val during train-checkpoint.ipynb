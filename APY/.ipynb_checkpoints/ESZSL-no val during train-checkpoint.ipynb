{
 "cells": [
  {
   "cell_type": "code",
   "execution_count": 1,
   "metadata": {},
   "outputs": [],
   "source": [
    "import numpy as np\n",
    "from scipy import io\n",
    "from sklearn.metrics import accuracy_score, confusion_matrix"
   ]
  },
  {
   "cell_type": "code",
   "execution_count": 2,
   "metadata": {},
   "outputs": [],
   "source": [
    "res101=io.loadmat('../resnet-feats/aPY/res101.mat')\n",
    "\n",
    "train_loc = 'train_loc'\n",
    "val_loc = 'val_loc'\n",
    "test_loc = 'test_unseen_loc'\n",
    "\n",
    "att_splits=io.loadmat('att_splits.mat')\n",
    "\n",
    "labels = res101['labels']\n",
    "labels_train = labels[np.squeeze(att_splits[train_loc]-1)]\n",
    "labels_val = labels[np.squeeze(att_splits[val_loc]-1)]\n",
    "labels_trainval = np.concatenate((labels_train, labels_val), axis=0)\n",
    "labels_test = labels[np.squeeze(att_splits[test_loc]-1)]\n",
    "\n",
    "train_labels_seen = np.unique(labels_train)\n",
    "val_labels_unseen = np.unique(labels_val)\n",
    "trainval_labels_seen = np.unique(labels_trainval)\n",
    "test_labels_unseen = np.unique(labels_test)\n",
    "\n",
    "X_features = res101['features']\n",
    "train_vec = X_features[:,np.squeeze(att_splits[train_loc]-1)]\n",
    "val_vec = X_features[:,np.squeeze(att_splits[val_loc]-1)]\n",
    "trainval_vec = np.concatenate((train_vec, val_vec), axis=1)\n",
    "test_vec = X_features[:,np.squeeze(att_splits[test_loc]-1)]\n",
    "\n",
    "#Signature matrix\n",
    "signature = att_splits['att']\n",
    "train_sig = signature[:,(train_labels_seen)-1]\n",
    "val_sig = signature[:,(val_labels_unseen)-1]\n",
    "trainval_sig = signature[:,(trainval_labels_seen)-1]\n",
    "test_sig = signature[:,(test_labels_unseen)-1]\n",
    "\n",
    "i = 0\n",
    "for labels in train_labels_seen:\n",
    "    labels_train[labels_train == labels] = i    \n",
    "    i = i+1\n",
    "j = 0\n",
    "for labels in val_labels_unseen:\n",
    "    labels_val[labels_val == labels] = j\n",
    "    j = j+1\n",
    "k = 0\n",
    "for labels in trainval_labels_seen:\n",
    "    labels_trainval[labels_trainval == labels] = k\n",
    "    k = k+1\n",
    "l = 0\n",
    "for labels in test_labels_unseen:\n",
    "    labels_test[labels_test == labels] = l\n",
    "    l = l+1"
   ]
  },
  {
   "cell_type": "code",
   "execution_count": 3,
   "metadata": {},
   "outputs": [],
   "source": [
    "m_train = labels_train.shape[0]\n",
    "z_train = len(train_labels_seen)\n",
    "#ground truth for train and val set\n",
    "gt_train = 0*np.ones((m_train, z_train))\n",
    "gt_train[np.arange(m_train), np.squeeze(labels_train)] = 1\n",
    "\n",
    "d_train = train_vec.shape[0]\n",
    "a_train = train_sig.shape[0]"
   ]
  },
  {
   "cell_type": "code",
   "execution_count": 4,
   "metadata": {},
   "outputs": [],
   "source": [
    "m_trainval = labels_trainval.shape[0]\n",
    "z_trainval = len(trainval_labels_seen)\n",
    "\n",
    "gt_trainval = 0*np.ones((m_trainval, z_trainval))\n",
    "gt_trainval[np.arange(m_trainval), np.squeeze(labels_trainval)] = 1"
   ]
  },
  {
   "cell_type": "code",
   "execution_count": 5,
   "metadata": {},
   "outputs": [],
   "source": [
    "# Hyperparameters alpha and gamma found using the last code block\n",
    "alph1=3\n",
    "gamm1=-1\n",
    "\n",
    "part_1_test = np.linalg.pinv(np.matmul(train_vec, train_vec.transpose()) + (10**alph1)*np.eye(d_train))\n",
    "part_0_test = np.matmul(np.matmul(train_vec, gt_train),train_sig.transpose())\n",
    "part_2_test = np.linalg.pinv(np.matmul(train_sig, train_sig.transpose()) + (10**gamm1)*np.eye(a_train))\n",
    "\n",
    "# learned feature vector through a closed-form solution\n",
    "W = np.matmul(np.matmul(part_1_test,part_0_test),part_2_test)"
   ]
  },
  {
   "cell_type": "code",
   "execution_count": 6,
   "metadata": {},
   "outputs": [
    {
     "name": "stdout",
     "output_type": "stream",
     "text": [
      "Class Averaged top-1 accuracy for train =  93.86806427389118\n"
     ]
    }
   ],
   "source": [
    "#train accuracies\n",
    "out = np.matmul(np.matmul(train_vec.transpose(),W),train_sig)\n",
    "pred = np.array([np.argmax(output) for output in out])\n",
    "cm = confusion_matrix(labels_train, pred)\n",
    "cm = cm.astype('float') / cm.sum(axis=1)[:, np.newaxis]\n",
    "avg = sum(cm.diagonal())/len(train_labels_seen)\n",
    "print(\"Class Averaged top-1 accuracy for train = \", avg*100)"
   ]
  },
  {
   "cell_type": "code",
   "execution_count": 7,
   "metadata": {},
   "outputs": [],
   "source": [
    "#predictions\n",
    "outputs_1 = np.matmul(np.matmul(test_vec.transpose(),W),test_sig)\n",
    "preds_1 = np.array([np.argmax(output) for output in outputs_1])"
   ]
  },
  {
   "cell_type": "code",
   "execution_count": 8,
   "metadata": {},
   "outputs": [
    {
     "name": "stdout",
     "output_type": "stream",
     "text": [
      "Class Averaged top-1 accuracy for test =  34.400069045609335\n"
     ]
    }
   ],
   "source": [
    "cm = confusion_matrix(labels_test, preds_1)\n",
    "cm = cm.astype('float') / cm.sum(axis=1)[:, np.newaxis]\n",
    "avg = sum(cm.diagonal())/len(test_labels_unseen)\n",
    "print(\"Class Averaged top-1 accuracy for test = \", avg*100)"
   ]
  },
  {
   "cell_type": "code",
   "execution_count": 5,
   "metadata": {},
   "outputs": [
    {
     "name": "stdout",
     "output_type": "stream",
     "text": [
      "0.5962033060429358 3 -1\n"
     ]
    }
   ],
   "source": [
    "#Hyperparamter Tuning\n",
    "accu = 0.0\n",
    "for alpha in range(-3, 4):\n",
    "    for gamma in range(-3,4):\n",
    "        #One line solution\n",
    "        part_1 = np.linalg.pinv(np.matmul(train_vec, train_vec.transpose()) + (10**alpha)*np.eye(d_train))\n",
    "        part_0 = np.matmul(np.matmul(train_vec, gt_train),train_sig.transpose())\n",
    "        part_2 = np.linalg.pinv(np.matmul(train_sig, train_sig.transpose()) + (10**gamma)*np.eye(a_train))\n",
    "        V = np.matmul(np.matmul(part_1,part_0),part_2)\n",
    "        #predictions\n",
    "        outputs = np.matmul(np.matmul(val_vec.transpose(),V),val_sig)\n",
    "        preds = np.array([np.argmax(output) for output in outputs])\n",
    "        cm = confusion_matrix(labels_val, preds)\n",
    "        cm = cm.astype('float') / cm.sum(axis=1)[:, np.newaxis]\n",
    "        avg = sum(cm.diagonal())/len(val_labels_unseen)\n",
    "        if avg > accu:\n",
    "            accu = avg\n",
    "            alph1 = alpha\n",
    "            gamm1 = gamma\n",
    "print(accu, alph1, gamm1)"
   ]
  },
  {
   "cell_type": "code",
   "execution_count": null,
   "metadata": {},
   "outputs": [],
   "source": []
  }
 ],
 "metadata": {
  "kernelspec": {
   "display_name": "Python 3",
   "language": "python",
   "name": "python3"
  },
  "language_info": {
   "codemirror_mode": {
    "name": "ipython",
    "version": 3
   },
   "file_extension": ".py",
   "mimetype": "text/x-python",
   "name": "python",
   "nbconvert_exporter": "python",
   "pygments_lexer": "ipython3",
   "version": "3.7.6"
  }
 },
 "nbformat": 4,
 "nbformat_minor": 2
}
