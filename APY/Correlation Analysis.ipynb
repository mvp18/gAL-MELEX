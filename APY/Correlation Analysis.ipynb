{
 "cells": [
  {
   "cell_type": "code",
   "execution_count": 28,
   "metadata": {
    "collapsed": true
   },
   "outputs": [],
   "source": [
    "import numpy as np\n",
    "from scipy import io"
   ]
  },
  {
   "cell_type": "code",
   "execution_count": 29,
   "metadata": {
    "collapsed": true
   },
   "outputs": [],
   "source": [
    "res101 = io.loadmat('../../resnet-feats/aPY/res101.mat')\n",
    "att_splits = io.loadmat('att_splits.mat')\n",
    "train_loc = 'train_loc'\n",
    "val_loc = 'val_loc'\n",
    "test_loc = 'test_unseen_loc'\n",
    "prior_matrix = att_splits['att']\n",
    "class_labels = res101['labels']\n",
    "train_classes = class_labels[np.squeeze(att_splits[train_loc]-1)]\n",
    "val_classes = class_labels[np.squeeze(att_splits[val_loc]-1)]\n",
    "test_classes = class_labels[np.squeeze(att_splits[test_loc]-1)]\n",
    "prior_matrix_tr = prior_matrix[:,(np.unique(train_classes)-1)]\n",
    "prior_matrix_ts = prior_matrix[:,(np.unique(test_classes)-1)]"
   ]
  },
  {
   "cell_type": "code",
   "execution_count": 30,
   "metadata": {
    "collapsed": true
   },
   "outputs": [],
   "source": [
    "allclass_names=att_splits['allclasses_names']"
   ]
  },
  {
   "cell_type": "code",
   "execution_count": 31,
   "metadata": {
    "collapsed": true
   },
   "outputs": [],
   "source": [
    "train_img=res101['image_files'][np.squeeze(att_splits[train_loc]-1)]\n",
    "val_img=res101['image_files'][np.squeeze(att_splits[val_loc]-1)]\n",
    "test_img=res101['image_files'][np.squeeze(att_splits[test_loc]-1)]\n",
    "train_img_names=[]\n",
    "val_img_names=[]\n",
    "test_img_names=[]\n",
    "for i in range(train_img.shape[0]):\n",
    "    train_img_names.append(train_img[i][0][0].split('ages/')[1]+'+'+allclass_names[train_classes[i][0]-1][0][0])\n",
    "for i in range(test_img.shape[0]):\n",
    "    test_img_names.append(test_img[i][0][0].split('ages/')[1]+'+'+allclass_names[test_classes[i][0]-1][0][0])\n",
    "for i in range(val_img.shape[0]):\n",
    "    val_img_names.append(val_img[i][0][0].split('ages/')[1]+'+'+allclass_names[val_classes[i][0]-1][0][0])"
   ]
  },
  {
   "cell_type": "code",
   "execution_count": 32,
   "metadata": {},
   "outputs": [
    {
     "name": "stdout",
     "output_type": "stream",
     "text": [
      "0\n",
      "False\n",
      "0\n",
      "False\n",
      "0\n",
      "False\n"
     ]
    }
   ],
   "source": [
    "def common_member(a, b): \n",
    "    a_set = set(a) \n",
    "    b_set = set(b)\n",
    "    print(len(a_set.intersection(b_set)))\n",
    "    if len(a_set.intersection(b_set)) > 0: \n",
    "        return(True)  \n",
    "    return(False)    \n",
    "\n",
    "print(common_member(train_img_names, val_img_names)) \n",
    "print(common_member(train_img_names, test_img_names))\n",
    "print(common_member(val_img_names, test_img_names))"
   ]
  },
  {
   "cell_type": "code",
   "execution_count": 33,
   "metadata": {
    "collapsed": true
   },
   "outputs": [],
   "source": [
    "all_img_names=train_img_names+val_img_names+test_img_names"
   ]
  },
  {
   "cell_type": "code",
   "execution_count": 34,
   "metadata": {
    "collapsed": true
   },
   "outputs": [],
   "source": [
    "rept_img_dict={}\n",
    "for i in range(len(all_img_names)):\n",
    "    rept_img_dict[all_img_names[i]]=0"
   ]
  },
  {
   "cell_type": "code",
   "execution_count": 35,
   "metadata": {},
   "outputs": [
    {
     "name": "stdout",
     "output_type": "stream",
     "text": [
      "6340\n",
      "12695\n",
      "15339\n"
     ]
    }
   ],
   "source": [
    "img2att={}\n",
    "apascal_train=open('./attribute_data/apascal_train.txt').readlines()\n",
    "apascal_test=open('./attribute_data/apascal_test.txt').readlines()\n",
    "ayahoo_test=open('./attribute_data/ayahoo_test.txt').readlines()\n",
    "for i in range(len(apascal_train)):\n",
    "    img_name=apascal_train[i].split(' ')[0]+'+'+apascal_train[i].split(' ')[1]\n",
    "    if all_img_names.count(img_name)>1:\n",
    "        suffix=str(rept_img_dict[img_name]+1)\n",
    "        rept_img_dict[img_name]+=1\n",
    "    else:\n",
    "        suffix='1'\n",
    "    bin_att=[]\n",
    "    for j in range(64):\n",
    "        bin_att.append(float(apascal_train[i].split(' ')[j+6]))\n",
    "    img2att[img_name+'_'+suffix]=np.array(bin_att)\n",
    "print(len(img2att))\n",
    "for a in range(len(apascal_test)):\n",
    "    img_name=apascal_test[a].split(' ')[0]+'+'+apascal_test[a].split(' ')[1]\n",
    "    if all_img_names.count(img_name)>1:\n",
    "        suffix=str(rept_img_dict[img_name]+1)\n",
    "        rept_img_dict[img_name]+=1\n",
    "    else:\n",
    "        suffix='1'\n",
    "    bin_att=[]\n",
    "    for b in range(64):\n",
    "        bin_att.append(float(apascal_test[a].split(' ')[b+6]))\n",
    "    img2att[img_name+'_'+suffix]=np.array(bin_att)\n",
    "print(len(img2att))\n",
    "for x in range(len(ayahoo_test)):\n",
    "    img_name=ayahoo_test[x].split(' ')[0]+'+'+ayahoo_test[x].split(' ')[1]\n",
    "    if all_img_names.count(img_name)>1:\n",
    "        suffix=str(rept_img_dict[img_name]+1)\n",
    "        rept_img_dict[img_name]+=1\n",
    "    else:\n",
    "        suffix='1'\n",
    "    bin_att=[]\n",
    "    for y in range(64):\n",
    "        bin_att.append(float(ayahoo_test[x].split(' ')[y+6]))\n",
    "    img2att[img_name+'_'+suffix]=np.array(bin_att)\n",
    "print(len(img2att))"
   ]
  },
  {
   "cell_type": "code",
   "execution_count": 36,
   "metadata": {
    "collapsed": true
   },
   "outputs": [],
   "source": [
    "train_att_mat=np.zeros([len(train_img_names), 64])\n",
    "count=0\n",
    "for img_name in set(train_img_names):\n",
    "    if rept_img_dict[img_name]!=0:\n",
    "        for j in range(rept_img_dict[img_name]):\n",
    "            train_att_mat[count+j]=img2att[img_name+'_'+str(j+1)]\n",
    "        count+=rept_img_dict[img_name]\n",
    "    else:\n",
    "        train_att_mat[count]=img2att[img_name+'_1']\n",
    "        count+=1"
   ]
  },
  {
   "cell_type": "code",
   "execution_count": 38,
   "metadata": {},
   "outputs": [
    {
     "data": {
      "text/plain": [
       "array([1.06564791, 1.06271553, 1.05094655, 1.04861214, 1.04378   ,\n",
       "       1.00750412, 0.9469992 , 0.90621382, 0.88490983, 0.85765022,\n",
       "       0.85233419, 0.8519762 , 0.84394924, 0.83892886, 0.83506707,\n",
       "       0.8078915 , 0.80687626, 0.80402085, 0.7935495 , 0.7934    ,\n",
       "       0.79185654, 0.78029274, 0.76408187, 0.7534324 , 0.75225639,\n",
       "       0.7428028 , 0.72167539, 0.7203806 , 0.71681475, 0.71177232,\n",
       "       0.7110312 , 0.70909748, 0.70790235, 0.6846656 , 0.68408048,\n",
       "       0.68315167, 0.66988935, 0.66869196, 0.66766969, 0.65730586,\n",
       "       0.6406232 , 0.63498785, 0.63480464, 0.62591973, 0.62476026,\n",
       "       0.62473087, 0.62035976, 0.6144634 , 0.61261097, 0.60273877,\n",
       "       0.60168844, 0.59637401, 0.59349477, 0.57888844, 0.56403969,\n",
       "       0.56150557, 0.55746645, 0.55166878, 0.53641877, 0.53142824,\n",
       "       0.52552234, 0.52342315, 0.51891009, 0.51879968, 0.51698818,\n",
       "       0.50643576, 0.4996758 , 0.49111273, 0.49062269, 0.48891981,\n",
       "       0.4865874 , 0.48521468, 0.48250356, 0.47726794, 0.47694017,\n",
       "       0.47670085, 0.47109101, 0.46414323, 0.46076188, 0.45542754,\n",
       "       0.45238308, 0.44822882, 0.44534686, 0.44048907, 0.43575055,\n",
       "       0.43309709, 0.43239782, 0.42832948, 0.42783082, 0.42619339,\n",
       "       0.4244316 , 0.42274698, 0.41938725, 0.41708431, 0.41611901,\n",
       "       0.41376352, 0.41320924, 0.41065306, 0.41024553, 0.40898423])"
      ]
     },
     "execution_count": 38,
     "metadata": {},
     "output_type": "execute_result"
    }
   ],
   "source": [
    "def diff_corr(corr_train, corr_test):\n",
    "    dis_corr = (corr_train - corr_test)\n",
    "    dis_corr = np.sign(corr_train)*dis_corr\n",
    "    return dis_corr.clip(0,np.inf)\n",
    "\n",
    "corr_train = np.corrcoef(train_att_mat.transpose())\n",
    "nans = np.isnan(corr_train)\n",
    "corr_train[nans] = 0\n",
    "\n",
    "corr_test = np.corrcoef(prior_matrix_ts)\n",
    "nans = np.isnan(corr_test)\n",
    "corr_test[nans] = 0\n",
    "\n",
    "dis_corr = diff_corr(corr_train, corr_test)\n",
    "dis_corr_triu = np.triu(dis_corr,1)\n",
    "loc = np.unravel_index(np.argsort(-dis_corr_triu, axis=None)[:100], dis_corr_triu.shape)\n",
    "dis_corr_triu[loc]"
   ]
  },
  {
   "cell_type": "code",
   "execution_count": 39,
   "metadata": {},
   "outputs": [
    {
     "data": {
      "text/plain": [
       "0.07092237006514282"
      ]
     },
     "execution_count": 39,
     "metadata": {},
     "output_type": "execute_result"
    }
   ],
   "source": [
    "dis_corr.mean()"
   ]
  },
  {
   "cell_type": "code",
   "execution_count": 45,
   "metadata": {},
   "outputs": [
    {
     "data": {
      "text/plain": [
       "array([[array([u'/BS/Deep_Fragments/work/MSc/data/APY/images_att/VOCdevkit/VOC2008/JPEGImages/2008_000008.jpg'],\n",
       "      dtype='<U92')],\n",
       "       [array([u'/BS/Deep_Fragments/work/MSc/data/APY/images_att/VOCdevkit/VOC2008/JPEGImages/2008_000008.jpg'],\n",
       "      dtype='<U92')],\n",
       "       [array([u'/BS/Deep_Fragments/work/MSc/data/APY/images_att/VOCdevkit/VOC2008/JPEGImages/2008_000015.jpg'],\n",
       "      dtype='<U92')],\n",
       "       ...,\n",
       "       [array([u'/BS/Deep_Fragments/work/MSc/data/APY/ayahoo_test_images/carriage_923.jpg'],\n",
       "      dtype='<U72')],\n",
       "       [array([u'/BS/Deep_Fragments/work/MSc/data/APY/ayahoo_test_images/carriage_937.jpg'],\n",
       "      dtype='<U72')],\n",
       "       [array([u'/BS/Deep_Fragments/work/MSc/data/APY/ayahoo_test_images/carriage_99.jpg'],\n",
       "      dtype='<U71')]], dtype=object)"
      ]
     },
     "execution_count": 45,
     "metadata": {},
     "output_type": "execute_result"
    }
   ],
   "source": [
    "res101['image_files']"
   ]
  },
  {
   "cell_type": "code",
   "execution_count": 55,
   "metadata": {},
   "outputs": [
    {
     "data": {
      "text/plain": [
       "array([[    3],\n",
       "       [    4],\n",
       "       [    5],\n",
       "       ...,\n",
       "       [14836],\n",
       "       [14837],\n",
       "       [14838]], dtype=uint16)"
      ]
     },
     "execution_count": 55,
     "metadata": {},
     "output_type": "execute_result"
    }
   ],
   "source": [
    "att_splits['train_loc']"
   ]
  },
  {
   "cell_type": "code",
   "execution_count": 58,
   "metadata": {},
   "outputs": [
    {
     "data": {
      "text/plain": [
       "array([[13],\n",
       "       [15],\n",
       "       [ 5],\n",
       "       ...,\n",
       "       [32],\n",
       "       [32],\n",
       "       [32]], dtype=uint8)"
      ]
     },
     "execution_count": 58,
     "metadata": {},
     "output_type": "execute_result"
    }
   ],
   "source": [
    "res101['labels']\n",
    "# att_splits['allclasses_names']"
   ]
  },
  {
   "cell_type": "markdown",
   "metadata": {},
   "source": [
    "<br>\n",
    "<br>\n",
    "<br>\n",
    "### New split with more correlation shift"
   ]
  },
  {
   "cell_type": "code",
   "execution_count": 15,
   "metadata": {
    "collapsed": true
   },
   "outputs": [],
   "source": [
    "res101 = io.loadmat('../../resnet-feats/aPY/res101.mat')\n",
    "att_splits = io.loadmat('att_splits.mat')\n",
    "train_loc = 'train_loc'\n",
    "val_loc = 'val_loc'\n",
    "test_loc = 'test_unseen_loc'\n",
    "prior_matrix = att_splits['att']\n",
    "class_labels = res101['labels']\n",
    "train_classes = class_labels[np.squeeze(att_splits[train_loc]-1)]\n",
    "val_classes = class_labels[np.squeeze(att_splits[val_loc]-1)]\n",
    "test_classes = class_labels[np.squeeze(att_splits[test_loc]-1)]\n",
    "prior_matrix_tr = prior_matrix[:,(np.unique(train_classes)-1)]\n",
    "prior_matrix_ts = prior_matrix[:,(np.unique(test_classes)-1)]"
   ]
  },
  {
   "cell_type": "code",
   "execution_count": 23,
   "metadata": {},
   "outputs": [
    {
     "data": {
      "text/plain": [
       "6086"
      ]
     },
     "execution_count": 23,
     "metadata": {},
     "output_type": "execute_result"
    }
   ],
   "source": [
    "len(att_splits['train_loc']) "
   ]
  },
  {
   "cell_type": "code",
   "execution_count": 34,
   "metadata": {
    "collapsed": true
   },
   "outputs": [],
   "source": [
    "def get_stats_of_data(fp_mat_file):\n",
    "    att_splits = io.loadmat(fp_mat_file)\n",
    "    print 'Train + Val count = ' + str(len(att_splits['train_loc']) + len(att_splits['val_loc']))\n",
    "    print 'Test count = ' + str(len(att_splits['test_unseen_loc']))\n",
    "    print 'Total = ' + str(len(att_splits['test_unseen_loc']) + len(att_splits['train_loc']) + len(att_splits['val_loc']))"
   ]
  },
  {
   "cell_type": "code",
   "execution_count": 43,
   "metadata": {},
   "outputs": [
    {
     "name": "stdout",
     "output_type": "stream",
     "text": [
      "Train + Val count = 7415\n",
      "Test count = 7924\n",
      "Total = 15339\n"
     ]
    }
   ],
   "source": [
    "get_stats_of_data('att_splits.mat')"
   ]
  },
  {
   "cell_type": "code",
   "execution_count": 75,
   "metadata": {},
   "outputs": [
    {
     "data": {
      "text/plain": [
       "15339"
      ]
     },
     "execution_count": 75,
     "metadata": {},
     "output_type": "execute_result"
    }
   ],
   "source": [
    "len(img2att)"
   ]
  },
  {
   "cell_type": "code",
   "execution_count": 76,
   "metadata": {
    "collapsed": true
   },
   "outputs": [],
   "source": [
    "def diff_corr(corr_train, corr_test):\n",
    "    dis_corr = (corr_train - corr_test)\n",
    "    dis_corr = np.sign(corr_train)*dis_corr\n",
    "    return dis_corr.clip(0,np.inf)"
   ]
  },
  {
   "cell_type": "code",
   "execution_count": 143,
   "metadata": {
    "collapsed": true
   },
   "outputs": [],
   "source": [
    "def get_corr_shift(img2att, train_class, test_class):\n",
    "    test_att_mat = []\n",
    "    train_att_mat = []\n",
    "    for img_name in img2att:\n",
    "        cls = img_name.split('+')[1].split('_')[0]\n",
    "        if cls in train_class:\n",
    "            train_att_mat.append(img2att[img_name])\n",
    "        elif cls in test_class:\n",
    "            test_att_mat.append(img2att[img_name])\n",
    "#     print '#Train instances = ' + str(len(train_att_mat)) + '\\n#Test instances = ' + str(len(test_att_mat))\n",
    "    \n",
    "    train_att_mat = np.array(train_att_mat).transpose()\n",
    "    test_att_mat = np.array(test_att_mat).transpose()\n",
    "    \n",
    "    corr_train = np.corrcoef(train_att_mat)\n",
    "    corr_train[np.isnan(corr_train)] = 0.\n",
    "    corr_test = np.corrcoef(test_att_mat)\n",
    "    corr_test[np.isnan(corr_test)] = 0.\n",
    "    \n",
    "    dis_corr = diff_corr(corr_train, corr_test)\n",
    "    \n",
    "    # correlation shift score: \n",
    "    # 1) mean\n",
    "    # corr_shift_score = np.mean(dis_corr)\n",
    "    \n",
    "    # 2) average of top n%\n",
    "    dis_corr_array = dis_corr.flatten()\n",
    "    top_percentage = 100\n",
    "    num_elements = int((top_percentage/100.)*len(dis_corr_array))\n",
    "    corr_shift_score = np.mean(dis_corr_array[np.argsort(dis_corr_array)[-num_elements:]])\n",
    "    \n",
    "    return corr_shift_score"
   ]
  },
  {
   "cell_type": "code",
   "execution_count": 85,
   "metadata": {
    "collapsed": true
   },
   "outputs": [],
   "source": [
    "all_classes = [cl[0][0] for cl in allclass_names]"
   ]
  },
  {
   "cell_type": "code",
   "execution_count": 105,
   "metadata": {},
   "outputs": [
    {
     "name": "stdout",
     "output_type": "stream",
     "text": [
      "1) bag -> 0.24254184334167883 :   1.83777809143s\n",
      "2) bottle -> 0.24419044085401936 :   3.77944493294s\n",
      "3) mug -> 0.2442747836824402 :   5.6346719265s\n",
      "4) building -> 0.2437577141936315 :   7.31759190559s\n",
      "5) tvmonitor -> 0.24232931874776364 :   9.14583110809s\n",
      "6) diningtable -> 0.23958930677836193 :   11.0314850807s\n",
      "7) car -> 0.23592500812921946 :   12.5436859131s\n",
      "8) carriage -> 0.23595269829113152 :   14.1278250217s\n",
      "9) bus -> 0.23646075010795312 :   15.5515639782s\n",
      "10) train -> 0.23595360207898775 :   16.7958800793s\n",
      "11) boat -> 0.2357936507909698 :   17.8987209797s\n",
      "12) jetski -> 0.23392054184756544 :   18.9527161121s\n"
     ]
    }
   ],
   "source": [
    "import time\n",
    "\n",
    "selected_classes = []\n",
    "remaining_classes = all_classes[:]\n",
    "\n",
    "start_time = time.time()\n",
    "for i in range(12):\n",
    "    best_cls = ''\n",
    "    best_score = -1.\n",
    "    for cls in remaining_classes:\n",
    "        new_sel = selected_classes[:]\n",
    "        new_sel.append(cls)\n",
    "        new_rem = remaining_classes[:]\n",
    "        new_rem.remove(cls)\n",
    "        shift_score = get_corr_shift(img2att, new_rem, new_sel)\n",
    "        if shift_score > best_score:\n",
    "            best_score = shift_score\n",
    "            best_cls = cls\n",
    "    selected_classes.append(best_cls)\n",
    "    remaining_classes.remove(best_cls)\n",
    "    print str(i+1) + ') ' + selected_classes[-1] + ' -> ' + str(best_score) + ' :   ' + str(time.time() - start_time)+ 's' \n",
    "\n",
    "test_set = selected_classes[:]\n",
    "train_val = remaining_classes[:]"
   ]
  },
  {
   "cell_type": "code",
   "execution_count": 106,
   "metadata": {},
   "outputs": [
    {
     "data": {
      "text/plain": [
       "20"
      ]
     },
     "execution_count": 106,
     "metadata": {},
     "output_type": "execute_result"
    }
   ],
   "source": [
    "train_val = all_classes[:]\n",
    "for cls in all_classes:\n",
    "    if cls in test_set:\n",
    "        train_val.remove(cls) \n",
    "len(train_val)"
   ]
  },
  {
   "cell_type": "code",
   "execution_count": 108,
   "metadata": {},
   "outputs": [
    {
     "name": "stdout",
     "output_type": "stream",
     "text": [
      "1) statue -> 0.23636153218187028\n",
      "2) dog -> 0.23870271892078793\n",
      "3) cat -> 0.24078543292743634\n",
      "4) bird -> 0.24209048919771076\n",
      "5) person -> 0.24616130378166207\n"
     ]
    }
   ],
   "source": [
    "selected_classes = []\n",
    "remaining_classes = train_val[:]\n",
    "for i in range(5):\n",
    "    best_cls = ''\n",
    "    best_score = -1.\n",
    "    for cls in remaining_classes:\n",
    "        new_sel = selected_classes[:]\n",
    "        new_sel.append(cls)\n",
    "        new_rem = remaining_classes[:]\n",
    "        new_rem.remove(cls)\n",
    "        shift_score = get_corr_shift(img2att, new_rem, test_set)\n",
    "        if shift_score > best_score:\n",
    "            best_score = shift_score\n",
    "            best_cls = cls\n",
    "    selected_classes.append(best_cls)\n",
    "    remaining_classes.remove(best_cls)\n",
    "    print str(i+1) + ') ' + selected_classes[-1] + ' -> ' + str(best_score)\n",
    "train_set = remaining_classes[:]\n",
    "val_set = selected_classes[:]"
   ]
  },
  {
   "cell_type": "code",
   "execution_count": 144,
   "metadata": {},
   "outputs": [
    {
     "data": {
      "text/plain": [
       "0.13281780813109434"
      ]
     },
     "execution_count": 144,
     "metadata": {},
     "output_type": "execute_result"
    }
   ],
   "source": [
    "get_corr_shift(img2att, train_set, test_set)"
   ]
  },
  {
   "cell_type": "code",
   "execution_count": 131,
   "metadata": {
    "collapsed": true
   },
   "outputs": [],
   "source": [
    "tr = [apascal_train[i].split(' ')[1] for i in range(len(apascal_train))]"
   ]
  },
  {
   "cell_type": "code",
   "execution_count": 138,
   "metadata": {
    "collapsed": true
   },
   "outputs": [],
   "source": [
    "tr = np.unique([x.split('+')[1] for x in train_img_names])"
   ]
  },
  {
   "cell_type": "code",
   "execution_count": 141,
   "metadata": {
    "collapsed": true
   },
   "outputs": [],
   "source": [
    "te = np.unique([x.split('+')[1] for x in test_img_names])"
   ]
  },
  {
   "cell_type": "code",
   "execution_count": 145,
   "metadata": {},
   "outputs": [
    {
     "data": {
      "text/plain": [
       "0.07259888204453514"
      ]
     },
     "execution_count": 145,
     "metadata": {},
     "output_type": "execute_result"
    }
   ],
   "source": [
    "get_corr_shift(img2att, tr, te)"
   ]
  },
  {
   "cell_type": "code",
   "execution_count": 153,
   "metadata": {},
   "outputs": [
    {
     "name": "stdout",
     "output_type": "stream",
     "text": [
      "4299\n",
      "4349\n",
      "6691\n"
     ]
    }
   ],
   "source": [
    "tr_count = 0\n",
    "for img in all_img_names:\n",
    "    n = img.split('+')[1]\n",
    "    if n in train_set:\n",
    "        tr_count += 1\n",
    "print tr_count\n",
    "\n",
    "te_count = 0\n",
    "for img in all_img_names:\n",
    "    n = img.split('+')[1]\n",
    "    if n in test_set:\n",
    "        te_count += 1\n",
    "print te_count\n",
    "\n",
    "val_count = 0\n",
    "for img in all_img_names:\n",
    "    n = img.split('+')[1]\n",
    "    if n in val_set:\n",
    "        val_count += 1\n",
    "print val_count"
   ]
  },
  {
   "cell_type": "code",
   "execution_count": 155,
   "metadata": {},
   "outputs": [
    {
     "data": {
      "text/plain": [
       "10990"
      ]
     },
     "execution_count": 155,
     "metadata": {},
     "output_type": "execute_result"
    }
   ],
   "source": [
    "val_count + tr_count"
   ]
  },
  {
   "cell_type": "code",
   "execution_count": 156,
   "metadata": {},
   "outputs": [
    {
     "data": {
      "text/plain": [
       "4349"
      ]
     },
     "execution_count": 156,
     "metadata": {},
     "output_type": "execute_result"
    }
   ],
   "source": [
    "te_count"
   ]
  },
  {
   "cell_type": "code",
   "execution_count": 157,
   "metadata": {
    "collapsed": true
   },
   "outputs": [],
   "source": [
    "split_dict = {}\n",
    "split_dict['train_cls'] = train_set\n",
    "split_dict['val_cls'] = val_set\n",
    "split_dict['test_cls'] = test_set\n",
    "\n",
    "import pickle\n",
    "with open('apy_cs_split.npy', 'wb') as fp:\n",
    "    np.save(fp, split_dict)"
   ]
  },
  {
   "cell_type": "code",
   "execution_count": 61,
   "metadata": {},
   "outputs": [
    {
     "data": {
      "text/plain": [
       "{'test_cls': [u'bag',\n",
       "  u'bottle',\n",
       "  u'mug',\n",
       "  u'building',\n",
       "  u'tvmonitor',\n",
       "  u'diningtable',\n",
       "  u'car',\n",
       "  u'carriage',\n",
       "  u'bus',\n",
       "  u'train',\n",
       "  u'boat',\n",
       "  u'jetski'],\n",
       " 'train_cls': [u'aeroplane',\n",
       "  u'bicycle',\n",
       "  u'chair',\n",
       "  u'cow',\n",
       "  u'horse',\n",
       "  u'motorbike',\n",
       "  u'pottedplant',\n",
       "  u'sheep',\n",
       "  u'sofa',\n",
       "  u'donkey',\n",
       "  u'monkey',\n",
       "  u'goat',\n",
       "  u'wolf',\n",
       "  u'zebra',\n",
       "  u'centaur'],\n",
       " 'val_cls': [u'statue', u'dog', u'cat', u'bird', u'person']}"
      ]
     },
     "execution_count": 61,
     "metadata": {},
     "output_type": "execute_result"
    }
   ],
   "source": [
    "sd = np.load('apy_cs_split.npy', allow_pickle=True).item()\n",
    "sd"
   ]
  },
  {
   "cell_type": "code",
   "execution_count": 65,
   "metadata": {},
   "outputs": [],
   "source": [
    "all_classes = res101['labels']    \n",
    "allclass_names=att_splits['allclasses_names']\n",
    "\n",
    "train_loc = []\n",
    "val_loc = []\n",
    "test_loc = []\n",
    "\n",
    "for i, label in enumerate(all_classes):\n",
    "    if allclass_names[label-1] in sd['train_cls']:\n",
    "        train_loc.append(i)\n",
    "    elif allclass_names[label-1] in sd['val_cls']:\n",
    "        val_loc.append(i)\n",
    "    elif allclass_names[label-1] in sd['test_cls']:\n",
    "        test_loc.append(i)"
   ]
  },
  {
   "cell_type": "code",
   "execution_count": 66,
   "metadata": {},
   "outputs": [
    {
     "data": {
      "text/plain": [
       "4349"
      ]
     },
     "execution_count": 66,
     "metadata": {},
     "output_type": "execute_result"
    }
   ],
   "source": [
    "len(test_loc)"
   ]
  },
  {
   "cell_type": "code",
   "execution_count": 64,
   "metadata": {},
   "outputs": [
    {
     "data": {
      "text/plain": [
       "array([[array([u'aeroplane'], dtype='<U9')],\n",
       "       [array([u'bicycle'], dtype='<U7')],\n",
       "       [array([u'bird'], dtype='<U4')],\n",
       "       [array([u'boat'], dtype='<U4')],\n",
       "       [array([u'bottle'], dtype='<U6')],\n",
       "       [array([u'bus'], dtype='<U3')],\n",
       "       [array([u'car'], dtype='<U3')],\n",
       "       [array([u'cat'], dtype='<U3')],\n",
       "       [array([u'chair'], dtype='<U5')],\n",
       "       [array([u'cow'], dtype='<U3')],\n",
       "       [array([u'diningtable'], dtype='<U11')],\n",
       "       [array([u'dog'], dtype='<U3')],\n",
       "       [array([u'horse'], dtype='<U5')],\n",
       "       [array([u'motorbike'], dtype='<U9')],\n",
       "       [array([u'person'], dtype='<U6')],\n",
       "       [array([u'pottedplant'], dtype='<U11')],\n",
       "       [array([u'sheep'], dtype='<U5')],\n",
       "       [array([u'sofa'], dtype='<U4')],\n",
       "       [array([u'train'], dtype='<U5')],\n",
       "       [array([u'tvmonitor'], dtype='<U9')],\n",
       "       [array([u'donkey'], dtype='<U6')],\n",
       "       [array([u'monkey'], dtype='<U6')],\n",
       "       [array([u'goat'], dtype='<U4')],\n",
       "       [array([u'wolf'], dtype='<U4')],\n",
       "       [array([u'jetski'], dtype='<U6')],\n",
       "       [array([u'zebra'], dtype='<U5')],\n",
       "       [array([u'centaur'], dtype='<U7')],\n",
       "       [array([u'mug'], dtype='<U3')],\n",
       "       [array([u'statue'], dtype='<U6')],\n",
       "       [array([u'building'], dtype='<U8')],\n",
       "       [array([u'bag'], dtype='<U3')],\n",
       "       [array([u'carriage'], dtype='<U8')]], dtype=object)"
      ]
     },
     "execution_count": 64,
     "metadata": {},
     "output_type": "execute_result"
    }
   ],
   "source": [
    "allclass_names"
   ]
  },
  {
   "cell_type": "code",
   "execution_count": null,
   "metadata": {
    "collapsed": true
   },
   "outputs": [],
   "source": []
  }
 ],
 "metadata": {
  "kernelspec": {
   "display_name": "Python 2",
   "language": "python",
   "name": "python2"
  },
  "language_info": {
   "codemirror_mode": {
    "name": "ipython",
    "version": 2
   },
   "file_extension": ".py",
   "mimetype": "text/x-python",
   "name": "python",
   "nbconvert_exporter": "python",
   "pygments_lexer": "ipython2",
   "version": "2.7.6"
  }
 },
 "nbformat": 4,
 "nbformat_minor": 2
}
