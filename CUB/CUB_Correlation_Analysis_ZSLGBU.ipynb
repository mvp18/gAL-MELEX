{
 "cells": [
  {
   "cell_type": "code",
   "execution_count": 1,
   "metadata": {
    "collapsed": true
   },
   "outputs": [],
   "source": [
    "import numpy as np\n",
    "from scipy import io"
   ]
  },
  {
   "cell_type": "code",
   "execution_count": 3,
   "metadata": {},
   "outputs": [
    {
     "ename": "IOError",
     "evalue": "[Errno 2] No such file or directory: 'attributes/image_attribute_labels.txt'",
     "output_type": "error",
     "traceback": [
      "\u001b[0;31m---------------------------------------------------------------------------\u001b[0m",
      "\u001b[0;31mIOError\u001b[0m                                   Traceback (most recent call last)",
      "\u001b[0;32m<ipython-input-3-6eb54eda7a5b>\u001b[0m in \u001b[0;36m<module>\u001b[0;34m()\u001b[0m\n\u001b[1;32m     21\u001b[0m     \u001b[0mid2name\u001b[0m\u001b[0;34m[\u001b[0m\u001b[0mimg\u001b[0m\u001b[0;34m.\u001b[0m\u001b[0msplit\u001b[0m\u001b[0;34m(\u001b[0m\u001b[0;34m' '\u001b[0m\u001b[0;34m)\u001b[0m\u001b[0;34m[\u001b[0m\u001b[0;36m0\u001b[0m\u001b[0;34m]\u001b[0m\u001b[0;34m]\u001b[0m \u001b[0;34m=\u001b[0m \u001b[0mimg\u001b[0m\u001b[0;34m.\u001b[0m\u001b[0msplit\u001b[0m\u001b[0;34m(\u001b[0m\u001b[0;34m' '\u001b[0m\u001b[0;34m)\u001b[0m\u001b[0;34m[\u001b[0m\u001b[0;36m1\u001b[0m\u001b[0;34m]\u001b[0m\u001b[0;34m\u001b[0m\u001b[0m\n\u001b[1;32m     22\u001b[0m \u001b[0;34m\u001b[0m\u001b[0m\n\u001b[0;32m---> 23\u001b[0;31m \u001b[0mimgattr_labels\u001b[0m \u001b[0;34m=\u001b[0m \u001b[0mopen\u001b[0m\u001b[0;34m(\u001b[0m\u001b[0;34m'attributes/image_attribute_labels.txt'\u001b[0m\u001b[0;34m,\u001b[0m \u001b[0;34m'r'\u001b[0m\u001b[0;34m)\u001b[0m\u001b[0;34m\u001b[0m\u001b[0m\n\u001b[0m\u001b[1;32m     24\u001b[0m \u001b[0mimgattr_labels\u001b[0m \u001b[0;34m=\u001b[0m \u001b[0mimgattr_labels\u001b[0m\u001b[0;34m.\u001b[0m\u001b[0mreadlines\u001b[0m\u001b[0;34m(\u001b[0m\u001b[0;34m)\u001b[0m\u001b[0;34m\u001b[0m\u001b[0m\n\u001b[1;32m     25\u001b[0m \u001b[0;34m\u001b[0m\u001b[0m\n",
      "\u001b[0;31mIOError\u001b[0m: [Errno 2] No such file or directory: 'attributes/image_attribute_labels.txt'"
     ]
    }
   ],
   "source": [
    "res101 = io.loadmat('../../resnet-feats/CUB/res101.mat')\n",
    "att_splits = io.loadmat('att_splits.mat')\n",
    "image_name_list = res101['image_files']\n",
    "prior_matrix = att_splits['att']\n",
    "class_labels = res101['labels']\n",
    "\n",
    "train_loc = 'train_loc'\n",
    "val_loc = 'val_loc'\n",
    "test_loc = 'test_unseen_loc'\n",
    "\n",
    "image_names = np.array(['/'.join(y[0][0].split('/')[-2:]) for y in image_name_list])\n",
    "train_img_names = image_names[np.squeeze(att_splits[train_loc]-1)]\n",
    "val_img_names = image_names[np.squeeze(att_splits[val_loc]-1)]\n",
    "test_img_names = image_names[np.squeeze(att_splits[test_loc]-1)]\n",
    "\n",
    "name_id_path = 'images.txt'\n",
    "name_id = open(name_id_path).read().splitlines()\n",
    "\n",
    "id2name = {}\n",
    "for img in name_id:\n",
    "    id2name[img.split(' ')[0]] = img.split(' ')[1]\n",
    "\n",
    "imgattr_labels = open('attributes/image_attribute_labels.txt', 'r')\n",
    "imgattr_labels = imgattr_labels.readlines()\n",
    "\n",
    "attr_dict = {}\n",
    "for i,line in enumerate(imgattr_labels):\n",
    "    x=line.split(' ')\n",
    "    if i%312==0:\n",
    "        sample_labels = []\n",
    "        sample_labels.append(int(x[2]))\n",
    "    else:\n",
    "        sample_labels.append(int(x[2]))\n",
    "    if i!=0 and (i+1)%312==0:\n",
    "        attr_dict[id2name[x[0]]] = np.array(sample_labels)"
   ]
  },
  {
   "cell_type": "code",
   "execution_count": null,
   "metadata": {
    "collapsed": true
   },
   "outputs": [],
   "source": [
    "train_att_mat=np.zeros([len(train_img_names), 312])\n",
    "\n",
    "for i in range(train_att_mat.shape[0]):\n",
    "    train_att_mat[i] = attr_dict[train_img_names[i]]\n",
    "\n",
    "test_classes = class_labels[np.squeeze(att_splits[test_loc]-1)]\n",
    "prior_matrix_ts = prior_matrix[:,(np.unique(test_classes)-1)]"
   ]
  },
  {
   "cell_type": "code",
   "execution_count": null,
   "metadata": {
    "collapsed": true
   },
   "outputs": [],
   "source": [
    "corr_train = np.corrcoef(train_att_mat.transpose())\n",
    "nans = np.isnan(corr_train)\n",
    "corr_train[nans] = 0\n",
    "corr_test = np.corrcoef(prior_matrix_ts)\n",
    "nans = np.isnan(corr_test)\n",
    "corr_test[nans] = 0\n",
    "def diff_corr(corr_train, corr_test):\n",
    "    dis_corr = (corr_train - corr_test)\n",
    "    dis_corr = np.sign(corr_train)*dis_corr\n",
    "    return dis_corr.clip(0,np.inf)\n",
    "dis_corr = diff_corr(corr_train, corr_test)"
   ]
  },
  {
   "cell_type": "code",
   "execution_count": 5,
   "metadata": {},
   "outputs": [
    {
     "data": {
      "text/plain": [
       "array([0.94720618, 0.89724458, 0.89637436, 0.86777269, 0.84916951,\n",
       "       0.83477524, 0.8310033 , 0.8290578 , 0.82309792, 0.81771457,\n",
       "       0.81414264, 0.81079432, 0.79156981, 0.78684107, 0.78583007,\n",
       "       0.78447994, 0.78103757, 0.779318  , 0.77686652, 0.76722963,\n",
       "       0.76572104, 0.76397167, 0.76078963, 0.75088942, 0.75068951,\n",
       "       0.7467109 , 0.7426252 , 0.74223388, 0.7359778 , 0.73195772,\n",
       "       0.72142544, 0.71855233, 0.71669996, 0.71512536, 0.70980274,\n",
       "       0.7090486 , 0.69878227, 0.69351539, 0.69349986, 0.69168674,\n",
       "       0.69094441, 0.68991596, 0.68944856, 0.68858182, 0.68843607,\n",
       "       0.68699016, 0.68353914, 0.6749725 , 0.67334315, 0.67303114,\n",
       "       0.66795333, 0.66397269, 0.66330133, 0.66052428, 0.65937771,\n",
       "       0.65507904, 0.64934704, 0.64885098, 0.64554852, 0.64419151,\n",
       "       0.64322316, 0.64183873, 0.64134972, 0.64108514, 0.64050374,\n",
       "       0.63185569, 0.62938038, 0.62836847, 0.62677021, 0.62223929,\n",
       "       0.6218658 , 0.6192955 , 0.61531467, 0.61481853, 0.61366272,\n",
       "       0.61320443, 0.612609  , 0.61166678, 0.61107152, 0.609996  ,\n",
       "       0.60980199, 0.60876815, 0.60853692, 0.60822646, 0.6081967 ,\n",
       "       0.60764241, 0.60702852, 0.60548145, 0.60364481, 0.60329219,\n",
       "       0.59964105, 0.59930589, 0.59916651, 0.59810786, 0.59795427,\n",
       "       0.59742464, 0.59702128, 0.59686777, 0.59584551, 0.59538467])"
      ]
     },
     "execution_count": 5,
     "metadata": {},
     "output_type": "execute_result"
    }
   ],
   "source": [
    "dis_corr_triu = np.triu(dis_corr,1)\n",
    "loc = np.unravel_index(np.argsort(-dis_corr_triu, axis=None)[:100], dis_corr_triu.shape)\n",
    "dis_corr_triu[loc]"
   ]
  },
  {
   "cell_type": "code",
   "execution_count": 6,
   "metadata": {},
   "outputs": [
    {
     "data": {
      "text/plain": [
       "0.04704171085922005"
      ]
     },
     "execution_count": 6,
     "metadata": {},
     "output_type": "execute_result"
    }
   ],
   "source": [
    "dis_corr.mean()"
   ]
  },
  {
   "cell_type": "markdown",
   "metadata": {},
   "source": [
    "<br>\n",
    "<br>\n",
    "\n",
    "---\n",
    "### New split with more correlation shift"
   ]
  },
  {
   "cell_type": "code",
   "execution_count": 4,
   "metadata": {
    "collapsed": true
   },
   "outputs": [],
   "source": [
    "res101 = io.loadmat('../../resnet-feats/CUB/res101.mat')\n",
    "att_splits = io.loadmat('att_splits.mat')\n",
    "image_name_list = res101['image_files']\n",
    "prior_matrix = att_splits['att']\n",
    "class_labels = res101['labels']\n",
    "\n",
    "train_loc = 'train_loc'\n",
    "val_loc = 'val_loc'\n",
    "test_loc = 'test_unseen_loc'\n",
    "\n",
    "image_names = np.array(['/'.join(y[0][0].split('/')[-2:]) for y in image_name_list])\n",
    "train_img_names = image_names[np.squeeze(att_splits[train_loc]-1)]\n",
    "val_img_names = image_names[np.squeeze(att_splits[val_loc]-1)]\n",
    "test_img_names = image_names[np.squeeze(att_splits[test_loc]-1)]\n",
    "\n",
    "name_id_path = 'images.txt'\n",
    "name_id = open(name_id_path).read().splitlines()\n",
    "\n",
    "id2name = {}\n",
    "for img in name_id:\n",
    "    id2name[img.split(' ')[0]] = img.split(' ')[1]"
   ]
  },
  {
   "cell_type": "code",
   "execution_count": 5,
   "metadata": {
    "collapsed": true
   },
   "outputs": [],
   "source": [
    "imgattr_labels = np.load('attributes/image_attribute_labels.npy', allow_pickle=True).item()\n",
    "class_names_instance = [x.split('/')[0] for x in image_names]\n",
    "all_classes = list(np.unique(class_names_instance))\n",
    "\n",
    "def diff_corr(corr_train, corr_test):\n",
    "    dis_corr = (corr_train - corr_test)\n",
    "    dis_corr = np.sign(corr_train)*dis_corr\n",
    "    return dis_corr.clip(0,np.inf)"
   ]
  },
  {
   "cell_type": "code",
   "execution_count": 19,
   "metadata": {
    "collapsed": true
   },
   "outputs": [],
   "source": [
    "def get_corr_shift(imgattr_labels, class_names_instance, train_class, test_class):\n",
    "    test_att_mat = []\n",
    "    train_att_mat = []\n",
    "    for i, cls in enumerate(class_names_instance):\n",
    "        if cls in train_class:\n",
    "            train_att_mat.append(imgattr_labels[i+1])\n",
    "        elif cls in test_class:\n",
    "            test_att_mat.append(imgattr_labels[i+1])\n",
    "    print '#Train instances = ' + str(len(train_att_mat)) + '\\n#Test instances = ' + str(len(test_att_mat))\n",
    "    \n",
    "    train_att_mat = np.array(train_att_mat).transpose()\n",
    "    test_att_mat = np.array(test_att_mat).transpose()\n",
    "    \n",
    "    corr_train = np.corrcoef(train_att_mat)\n",
    "    corr_train[np.isnan(corr_train)] = 0.\n",
    "    corr_test = np.corrcoef(test_att_mat)\n",
    "    corr_test[np.isnan(corr_test)] = 0.\n",
    "    \n",
    "    dis_corr = diff_corr(corr_train, corr_test)\n",
    "    \n",
    "    # correlation shift score: \n",
    "    # 1) mean\n",
    "    # corr_shift_score = np.mean(dis_corr)\n",
    "    \n",
    "    # 2) average of top n%\n",
    "    dis_corr_array = dis_corr.flatten()\n",
    "    top_percentage = 50\n",
    "    num_elements = int((top_percentage/100.)*len(dis_corr_array))\n",
    "    corr_shift_score = np.mean(dis_corr_array[np.argsort(dis_corr_array)[-num_elements:]])\n",
    "    \n",
    "    return corr_shift_score"
   ]
  },
  {
   "cell_type": "code",
   "execution_count": 36,
   "metadata": {},
   "outputs": [
    {
     "name": "stdout",
     "output_type": "stream",
     "text": [
      "1) 069.Rufous_Hummingbird -> 0.11385577439266796 :62.9130020142s\n",
      "2) 057.Rose_breasted_Grosbeak -> 0.11156773006704038 :121.234529018s\n",
      "3) 191.Red_headed_Woodpecker -> 0.10561692026763937 :179.450778008s\n",
      "4) 188.Pileated_Woodpecker -> 0.10051679558792562 :237.526015043s\n",
      "5) 087.Mallard -> 0.09600760215692818 :294.862924099s\n",
      "6) 192.Downy_Woodpecker -> 0.09312027812516693 :351.022908211s\n",
      "7) 189.Red_bellied_Woodpecker -> 0.09082375301595 :407.015137196s\n",
      "8) 083.White_breasted_Kingfisher -> 0.08879891791869768 :462.514536142s\n",
      "9) 190.Red_cockaded_Woodpecker -> 0.08723255938340584 :517.859834194s\n",
      "10) 187.American_Three_toed_Woodpecker -> 0.0860217048244411 :572.796858072s\n",
      "11) 081.Pied_Kingfisher -> 0.08452434396219373 :627.438321114s\n",
      "12) 159.Black_and_white_Warbler -> 0.08308189489606979 :681.716769218s\n",
      "13) 044.Frigatebird -> 0.08150842873157368 :735.546095133s\n",
      "14) 013.Bobolink -> 0.08002348456044096 :789.646750212s\n",
      "15) 007.Parakeet_Auklet -> 0.07855512642919746 :843.863104105s\n",
      "16) 006.Least_Auklet -> 0.07750470255661454 :898.911499023s\n",
      "17) 008.Rhinoceros_Auklet -> 0.07644705395977956 :954.056019068s\n",
      "18) 005.Crested_Auklet -> 0.07546410000281015 :1008.25181603s\n",
      "19) 106.Horned_Puffin -> 0.07461344060809091 :1061.31709313s\n",
      "20) 108.White_necked_Raven -> 0.073660777119651 :1117.64414501s\n",
      "21) 053.Western_Grebe -> 0.0727041815795085 :1171.97100806s\n",
      "22) 050.Eared_Grebe -> 0.07190455875054313 :1228.03759313s\n",
      "23) 089.Hooded_Merganser -> 0.07119835117611958 :1282.10677409s\n",
      "24) 090.Red_breasted_Merganser -> 0.07064290894485865 :1334.39727306s\n",
      "25) 086.Pacific_Loon -> 0.06992616075172908 :1390.28503013s\n",
      "26) 051.Horned_Grebe -> 0.06924979208165391 :1442.8889761s\n",
      "27) 058.Pigeon_Guillemot -> 0.06858938862645068 :1500.08007216s\n",
      "28) 142.Black_Tern -> 0.06800723897839747 :1555.96407104s\n",
      "29) 048.European_Goldfinch -> 0.067438791960631 :1608.2256732s\n",
      "30) 019.Gray_Catbird -> 0.06689524936231964 :1672.37641716s\n",
      "31) 093.Clark_Nutcracker -> 0.06647681051990856 :1728.37365723s\n",
      "32) 112.Great_Grey_Shrike -> 0.06599320043416794 :1783.129843s\n",
      "33) 111.Loggerhead_Shrike -> 0.06563126741323773 :1834.08936906s\n",
      "34) 185.Bohemian_Waxwing -> 0.06524432817249236 :1886.0333252s\n",
      "35) 186.Cedar_Waxwing -> 0.06488984603382801 :1936.56270218s\n",
      "36) 078.Gray_Kingbird -> 0.06458270395033575 :1987.44029117s\n",
      "37) 136.Barn_Swallow -> 0.06420820297083085 :2042.72482514s\n",
      "38) 137.Cliff_Swallow -> 0.06401710028976512 :2094.34431505s\n",
      "39) 082.Ringed_Kingfisher -> 0.06372126900316251 :2149.73541403s\n",
      "40) 079.Belted_Kingfisher -> 0.06361672104494219 :2202.07782102s\n",
      "41) 160.Black_throated_Blue_Warbler -> 0.063344929059888 :2252.86309814s\n",
      "42) 138.Tree_Swallow -> 0.06311660638465824 :2302.3011601s\n",
      "43) 094.White_breasted_Nuthatch -> 0.06297797853517663 :2357.53182316s\n",
      "44) 114.Black_throated_Sparrow -> 0.06275975416024931 :2412.53540921s\n",
      "45) 076.Dark_eyed_Junco -> 0.0625371973737628 :2464.53265619s\n",
      "46) 091.Mockingbird -> 0.06236442553643917 :2514.54351521s\n",
      "47) 072.Pomarine_Jaeger -> 0.0621434010724586 :2561.47803307s\n",
      "48) 052.Pied_billed_Grebe -> 0.06199737839622661 :2608.09272122s\n",
      "49) 046.Gadwall -> 0.06186073343172312 :2654.10852814s\n",
      "50) 021.Eastern_Towhee -> 0.06168250946059599 :2706.37958908s\n"
     ]
    }
   ],
   "source": [
    "import time\n",
    "\n",
    "selected_classes = []\n",
    "remaining_classes = all_classes[:]\n",
    "\n",
    "start_time = time.time()\n",
    "for i in range(50):\n",
    "    best_cls = ''\n",
    "    best_score = -1.\n",
    "    for cls in remaining_classes:\n",
    "        new_sel = selected_classes[:]\n",
    "        new_sel.append(cls)\n",
    "        new_rem = remaining_classes[:]\n",
    "        new_rem.remove(cls)\n",
    "        shift_score = get_corr_shift(imgattr_labels, class_names_instance, new_rem, new_sel)\n",
    "        if shift_score > best_score:\n",
    "            best_score = shift_score\n",
    "            best_cls = cls\n",
    "    selected_classes.append(best_cls)\n",
    "    remaining_classes.remove(best_cls)\n",
    "    print str(i+1) + ') ' + selected_classes[-1] + ' -> ' + str(best_score) + ' :' + str(time.time() - start_time)+ 's' \n",
    "\n",
    "test_set = selected_classes[:]\n",
    "train_val = remaining_classes[:]"
   ]
  },
  {
   "cell_type": "code",
   "execution_count": 44,
   "metadata": {},
   "outputs": [
    {
     "data": {
      "text/plain": [
       "150"
      ]
     },
     "execution_count": 44,
     "metadata": {},
     "output_type": "execute_result"
    }
   ],
   "source": [
    "train_val = all_classes[:]\n",
    "for cls in all_classes:\n",
    "    if cls in test_set:\n",
    "        train_val.remove(cls) \n",
    "len(train_val)"
   ]
  },
  {
   "cell_type": "code",
   "execution_count": 50,
   "metadata": {},
   "outputs": [
    {
     "name": "stdout",
     "output_type": "stream",
     "text": [
      "1) 016.Painted_Bunting -> 0.0620539070869597\n",
      "2) 067.Anna_Hummingbird -> 0.06236520665263801\n",
      "3) 080.Green_Kingfisher -> 0.06267693606476903\n",
      "4) 068.Ruby_throated_Hummingbird -> 0.06303446912212289\n",
      "5) 015.Lazuli_Bunting -> 0.06333623229564776\n",
      "6) 073.Blue_Jay -> 0.06362335669509035\n",
      "7) 164.Cerulean_Warbler -> 0.0639269379487011\n",
      "8) 074.Florida_Jay -> 0.06423630776224475\n",
      "9) 123.Henslow_Sparrow -> 0.06453022977420048\n",
      "10) 148.Green_tailed_Towhee -> 0.064846930696718\n",
      "11) 018.Spotted_Catbird -> 0.06509260691862453\n",
      "12) 151.Black_capped_Vireo -> 0.0653429401993996\n",
      "13) 110.Geococcyx -> 0.06560973548435017\n",
      "14) 055.Evening_Grosbeak -> 0.06587031561541065\n",
      "15) 158.Bay_breasted_Warbler -> 0.06613818242288234\n",
      "16) 171.Myrtle_Warbler -> 0.0664175589186118\n",
      "17) 036.Northern_Flicker -> 0.06668104937227212\n",
      "18) 099.Ovenbird -> 0.06695580762309218\n",
      "19) 041.Scissor_tailed_Flycatcher -> 0.06723031110717696\n",
      "20) 003.Sooty_Albatross -> 0.06747286107511151\n",
      "21) 155.Warbling_Vireo -> 0.06771935315347377\n",
      "22) 165.Chestnut_sided_Warbler -> 0.06799262573310436\n",
      "23) 088.Western_Meadowlark -> 0.06827199797959575\n",
      "24) 100.Brown_Pelican -> 0.06854947905556841\n",
      "25) 166.Golden_winged_Warbler -> 0.06882173427270212\n",
      "26) 001.Black_footed_Albatross -> 0.06909495772623629\n",
      "27) 038.Great_Crested_Flycatcher -> 0.06935639149433007\n",
      "28) 170.Mourning_Warbler -> 0.06961690606393278\n",
      "29) 163.Cape_May_Warbler -> 0.06989218457193216\n",
      "30) 032.Mangrove_Cuckoo -> 0.0701552743837941\n",
      "31) 039.Least_Flycatcher -> 0.07042000440967544\n",
      "32) 162.Canada_Warbler -> 0.07067337208927339\n",
      "33) 054.Blue_Grosbeak -> 0.07095574024066108\n",
      "34) 014.Indigo_Bunting -> 0.07141819285230294\n",
      "35) 169.Magnolia_Warbler -> 0.07169533732286312\n",
      "36) 152.Blue_headed_Vireo -> 0.0719930587186144\n",
      "37) 154.Red_eyed_Vireo -> 0.07228879323166006\n",
      "38) 031.Black_billed_Cuckoo -> 0.07257223150943011\n",
      "39) 040.Olive_sided_Flycatcher -> 0.07286401019310199\n",
      "40) 047.American_Goldfinch -> 0.0731700275980445\n",
      "41) 037.Acadian_Flycatcher -> 0.07346518742829918\n",
      "42) 174.Palm_Warbler -> 0.07376372913631989\n",
      "43) 103.Sayornis -> 0.07407902769281749\n",
      "44) 132.White_crowned_Sparrow -> 0.07439190478254247\n",
      "45) 071.Long_tailed_Jaeger -> 0.0747085232356555\n",
      "46) 130.Tree_Sparrow -> 0.07499557475545583\n",
      "47) 102.Western_Wood_Pewee -> 0.07529263646046092\n",
      "48) 077.Tropical_Kingbird -> 0.07560288814605712\n",
      "49) 135.Bank_Swallow -> 0.07592841543972555\n",
      "50) 085.Horned_Lark -> 0.07625089724690139\n"
     ]
    }
   ],
   "source": [
    "selected_classes = []\n",
    "remaining_classes = train_val[:]\n",
    "for i in range(50):\n",
    "    best_cls = ''\n",
    "    best_score = -1.\n",
    "    for cls in remaining_classes:\n",
    "        new_sel = selected_classes[:]\n",
    "        new_sel.append(cls)\n",
    "        new_rem = remaining_classes[:]\n",
    "        new_rem.remove(cls)\n",
    "        shift_score = get_corr_shift(imgattr_labels, class_names_instance, new_rem, test_set)\n",
    "        if shift_score > best_score:\n",
    "            best_score = shift_score\n",
    "            best_cls = cls\n",
    "    selected_classes.append(best_cls)\n",
    "    remaining_classes.remove(best_cls)\n",
    "    print str(i+1) + ') ' + selected_classes[-1] + ' -> ' + str(best_score)\n",
    "train_set = remaining_classes[:]\n",
    "val_set = selected_classes[:]"
   ]
  },
  {
   "cell_type": "code",
   "execution_count": 8,
   "metadata": {
    "collapsed": true
   },
   "outputs": [],
   "source": [
    "train_classes = list(np.unique([cls.split('/')[0] for cls in train_img_names]))\n",
    "val_classes = list(np.unique([cls.split('/')[0] for cls in val_img_names]))\n",
    "test_classes = list(np.unique([cls.split('/')[0] for cls in test_img_names]))"
   ]
  },
  {
   "cell_type": "code",
   "execution_count": 20,
   "metadata": {},
   "outputs": [
    {
     "name": "stdout",
     "output_type": "stream",
     "text": [
      "#Train instances = 5875\n",
      "#Test instances = 2967\n"
     ]
    },
    {
     "data": {
      "text/plain": [
       "0.036478522374301846"
      ]
     },
     "execution_count": 20,
     "metadata": {},
     "output_type": "execute_result"
    }
   ],
   "source": [
    "get_corr_shift(imgattr_labels, class_names_instance, train_classes, test_classes)"
   ]
  },
  {
   "cell_type": "code",
   "execution_count": null,
   "metadata": {
    "collapsed": true
   },
   "outputs": [],
   "source": []
  },
  {
   "cell_type": "code",
   "execution_count": 59,
   "metadata": {
    "collapsed": true
   },
   "outputs": [],
   "source": [
    "split_dict = {}\n",
    "split_dict['train_cls'] = train_set\n",
    "split_dict['val_cls'] = val_set\n",
    "split_dict['test_cls'] = test_set\n",
    "\n",
    "import pickle\n",
    "with open('cub_cs_split.npy', 'wb') as fp:\n",
    "    np.save(fp, split_dict)"
   ]
  },
  {
   "cell_type": "code",
   "execution_count": 12,
   "metadata": {},
   "outputs": [
    {
     "data": {
      "text/plain": [
       "{'test_cls': [u'069.Rufous_Hummingbird',\n",
       "  u'057.Rose_breasted_Grosbeak',\n",
       "  u'191.Red_headed_Woodpecker',\n",
       "  u'188.Pileated_Woodpecker',\n",
       "  u'087.Mallard',\n",
       "  u'192.Downy_Woodpecker',\n",
       "  u'189.Red_bellied_Woodpecker',\n",
       "  u'083.White_breasted_Kingfisher',\n",
       "  u'190.Red_cockaded_Woodpecker',\n",
       "  u'187.American_Three_toed_Woodpecker',\n",
       "  u'081.Pied_Kingfisher',\n",
       "  u'159.Black_and_white_Warbler',\n",
       "  u'044.Frigatebird',\n",
       "  u'013.Bobolink',\n",
       "  u'007.Parakeet_Auklet',\n",
       "  u'006.Least_Auklet',\n",
       "  u'008.Rhinoceros_Auklet',\n",
       "  u'005.Crested_Auklet',\n",
       "  u'106.Horned_Puffin',\n",
       "  u'108.White_necked_Raven',\n",
       "  u'053.Western_Grebe',\n",
       "  u'050.Eared_Grebe',\n",
       "  u'089.Hooded_Merganser',\n",
       "  u'090.Red_breasted_Merganser',\n",
       "  u'086.Pacific_Loon',\n",
       "  u'051.Horned_Grebe',\n",
       "  u'058.Pigeon_Guillemot',\n",
       "  u'142.Black_Tern',\n",
       "  u'048.European_Goldfinch',\n",
       "  u'019.Gray_Catbird',\n",
       "  u'093.Clark_Nutcracker',\n",
       "  u'112.Great_Grey_Shrike',\n",
       "  u'111.Loggerhead_Shrike',\n",
       "  u'185.Bohemian_Waxwing',\n",
       "  u'186.Cedar_Waxwing',\n",
       "  u'078.Gray_Kingbird',\n",
       "  u'136.Barn_Swallow',\n",
       "  u'137.Cliff_Swallow',\n",
       "  u'082.Ringed_Kingfisher',\n",
       "  u'079.Belted_Kingfisher',\n",
       "  u'160.Black_throated_Blue_Warbler',\n",
       "  u'138.Tree_Swallow',\n",
       "  u'094.White_breasted_Nuthatch',\n",
       "  u'114.Black_throated_Sparrow',\n",
       "  u'076.Dark_eyed_Junco',\n",
       "  u'091.Mockingbird',\n",
       "  u'072.Pomarine_Jaeger',\n",
       "  u'052.Pied_billed_Grebe',\n",
       "  u'046.Gadwall',\n",
       "  u'021.Eastern_Towhee'],\n",
       " 'train_cls': [u'002.Laysan_Albatross',\n",
       "  u'004.Groove_billed_Ani',\n",
       "  u'009.Brewer_Blackbird',\n",
       "  u'010.Red_winged_Blackbird',\n",
       "  u'011.Rusty_Blackbird',\n",
       "  u'012.Yellow_headed_Blackbird',\n",
       "  u'017.Cardinal',\n",
       "  u'020.Yellow_breasted_Chat',\n",
       "  u'022.Chuck_will_Widow',\n",
       "  u'023.Brandt_Cormorant',\n",
       "  u'024.Red_faced_Cormorant',\n",
       "  u'025.Pelagic_Cormorant',\n",
       "  u'026.Bronzed_Cowbird',\n",
       "  u'027.Shiny_Cowbird',\n",
       "  u'028.Brown_Creeper',\n",
       "  u'029.American_Crow',\n",
       "  u'030.Fish_Crow',\n",
       "  u'033.Yellow_billed_Cuckoo',\n",
       "  u'034.Gray_crowned_Rosy_Finch',\n",
       "  u'035.Purple_Finch',\n",
       "  u'042.Vermilion_Flycatcher',\n",
       "  u'043.Yellow_bellied_Flycatcher',\n",
       "  u'045.Northern_Fulmar',\n",
       "  u'049.Boat_tailed_Grackle',\n",
       "  u'056.Pine_Grosbeak',\n",
       "  u'059.California_Gull',\n",
       "  u'060.Glaucous_winged_Gull',\n",
       "  u'061.Heermann_Gull',\n",
       "  u'062.Herring_Gull',\n",
       "  u'063.Ivory_Gull',\n",
       "  u'064.Ring_billed_Gull',\n",
       "  u'065.Slaty_backed_Gull',\n",
       "  u'066.Western_Gull',\n",
       "  u'070.Green_Violetear',\n",
       "  u'075.Green_Jay',\n",
       "  u'084.Red_legged_Kittiwake',\n",
       "  u'092.Nighthawk',\n",
       "  u'095.Baltimore_Oriole',\n",
       "  u'096.Hooded_Oriole',\n",
       "  u'097.Orchard_Oriole',\n",
       "  u'098.Scott_Oriole',\n",
       "  u'101.White_Pelican',\n",
       "  u'104.American_Pipit',\n",
       "  u'105.Whip_poor_Will',\n",
       "  u'107.Common_Raven',\n",
       "  u'109.American_Redstart',\n",
       "  u'113.Baird_Sparrow',\n",
       "  u'115.Brewer_Sparrow',\n",
       "  u'116.Chipping_Sparrow',\n",
       "  u'117.Clay_colored_Sparrow',\n",
       "  u'118.House_Sparrow',\n",
       "  u'119.Field_Sparrow',\n",
       "  u'120.Fox_Sparrow',\n",
       "  u'121.Grasshopper_Sparrow',\n",
       "  u'122.Harris_Sparrow',\n",
       "  u'124.Le_Conte_Sparrow',\n",
       "  u'125.Lincoln_Sparrow',\n",
       "  u'126.Nelson_Sharp_tailed_Sparrow',\n",
       "  u'127.Savannah_Sparrow',\n",
       "  u'128.Seaside_Sparrow',\n",
       "  u'129.Song_Sparrow',\n",
       "  u'131.Vesper_Sparrow',\n",
       "  u'133.White_throated_Sparrow',\n",
       "  u'134.Cape_Glossy_Starling',\n",
       "  u'139.Scarlet_Tanager',\n",
       "  u'140.Summer_Tanager',\n",
       "  u'141.Artic_Tern',\n",
       "  u'143.Caspian_Tern',\n",
       "  u'144.Common_Tern',\n",
       "  u'145.Elegant_Tern',\n",
       "  u'146.Forsters_Tern',\n",
       "  u'147.Least_Tern',\n",
       "  u'149.Brown_Thrasher',\n",
       "  u'150.Sage_Thrasher',\n",
       "  u'153.Philadelphia_Vireo',\n",
       "  u'156.White_eyed_Vireo',\n",
       "  u'157.Yellow_throated_Vireo',\n",
       "  u'161.Blue_winged_Warbler',\n",
       "  u'167.Hooded_Warbler',\n",
       "  u'168.Kentucky_Warbler',\n",
       "  u'172.Nashville_Warbler',\n",
       "  u'173.Orange_crowned_Warbler',\n",
       "  u'175.Pine_Warbler',\n",
       "  u'176.Prairie_Warbler',\n",
       "  u'177.Prothonotary_Warbler',\n",
       "  u'178.Swainson_Warbler',\n",
       "  u'179.Tennessee_Warbler',\n",
       "  u'180.Wilson_Warbler',\n",
       "  u'181.Worm_eating_Warbler',\n",
       "  u'182.Yellow_Warbler',\n",
       "  u'183.Northern_Waterthrush',\n",
       "  u'184.Louisiana_Waterthrush',\n",
       "  u'193.Bewick_Wren',\n",
       "  u'194.Cactus_Wren',\n",
       "  u'195.Carolina_Wren',\n",
       "  u'196.House_Wren',\n",
       "  u'197.Marsh_Wren',\n",
       "  u'198.Rock_Wren',\n",
       "  u'199.Winter_Wren',\n",
       "  u'200.Common_Yellowthroat'],\n",
       " 'val_cls': [u'016.Painted_Bunting',\n",
       "  u'067.Anna_Hummingbird',\n",
       "  u'080.Green_Kingfisher',\n",
       "  u'068.Ruby_throated_Hummingbird',\n",
       "  u'015.Lazuli_Bunting',\n",
       "  u'073.Blue_Jay',\n",
       "  u'164.Cerulean_Warbler',\n",
       "  u'074.Florida_Jay',\n",
       "  u'123.Henslow_Sparrow',\n",
       "  u'148.Green_tailed_Towhee',\n",
       "  u'018.Spotted_Catbird',\n",
       "  u'151.Black_capped_Vireo',\n",
       "  u'110.Geococcyx',\n",
       "  u'055.Evening_Grosbeak',\n",
       "  u'158.Bay_breasted_Warbler',\n",
       "  u'171.Myrtle_Warbler',\n",
       "  u'036.Northern_Flicker',\n",
       "  u'099.Ovenbird',\n",
       "  u'041.Scissor_tailed_Flycatcher',\n",
       "  u'003.Sooty_Albatross',\n",
       "  u'155.Warbling_Vireo',\n",
       "  u'165.Chestnut_sided_Warbler',\n",
       "  u'088.Western_Meadowlark',\n",
       "  u'100.Brown_Pelican',\n",
       "  u'166.Golden_winged_Warbler',\n",
       "  u'001.Black_footed_Albatross',\n",
       "  u'038.Great_Crested_Flycatcher',\n",
       "  u'170.Mourning_Warbler',\n",
       "  u'163.Cape_May_Warbler',\n",
       "  u'032.Mangrove_Cuckoo',\n",
       "  u'039.Least_Flycatcher',\n",
       "  u'162.Canada_Warbler',\n",
       "  u'054.Blue_Grosbeak',\n",
       "  u'014.Indigo_Bunting',\n",
       "  u'169.Magnolia_Warbler',\n",
       "  u'152.Blue_headed_Vireo',\n",
       "  u'154.Red_eyed_Vireo',\n",
       "  u'031.Black_billed_Cuckoo',\n",
       "  u'040.Olive_sided_Flycatcher',\n",
       "  u'047.American_Goldfinch',\n",
       "  u'037.Acadian_Flycatcher',\n",
       "  u'174.Palm_Warbler',\n",
       "  u'103.Sayornis',\n",
       "  u'132.White_crowned_Sparrow',\n",
       "  u'071.Long_tailed_Jaeger',\n",
       "  u'130.Tree_Sparrow',\n",
       "  u'102.Western_Wood_Pewee',\n",
       "  u'077.Tropical_Kingbird',\n",
       "  u'135.Bank_Swallow',\n",
       "  u'085.Horned_Lark']}"
      ]
     },
     "execution_count": 12,
     "metadata": {},
     "output_type": "execute_result"
    }
   ],
   "source": [
    "sd = np.load('cub_cs_split.npy', allow_pickle=True).item()\n",
    "sd"
   ]
  },
  {
   "cell_type": "code",
   "execution_count": 22,
   "metadata": {},
   "outputs": [
    {
     "name": "stdout",
     "output_type": "stream",
     "text": [
      "#Train instances = 5901\n",
      "#Test instances = 2958\n"
     ]
    },
    {
     "data": {
      "text/plain": [
       "0.06426110509185505"
      ]
     },
     "execution_count": 22,
     "metadata": {},
     "output_type": "execute_result"
    }
   ],
   "source": [
    "get_corr_shift(imgattr_labels, class_names_instance, sd['train_cls'], sd['val_cls'])"
   ]
  },
  {
   "cell_type": "code",
   "execution_count": 23,
   "metadata": {},
   "outputs": [
    {
     "data": {
      "text/plain": [
       "8859"
      ]
     },
     "execution_count": 23,
     "metadata": {},
     "output_type": "execute_result"
    }
   ],
   "source": [
    "5901 + 2958"
   ]
  },
  {
   "cell_type": "code",
   "execution_count": null,
   "metadata": {
    "collapsed": true
   },
   "outputs": [],
   "source": []
  }
 ],
 "metadata": {
  "kernelspec": {
   "display_name": "Python 2",
   "language": "python",
   "name": "python2"
  },
  "language_info": {
   "codemirror_mode": {
    "name": "ipython",
    "version": 2
   },
   "file_extension": ".py",
   "mimetype": "text/x-python",
   "name": "python",
   "nbconvert_exporter": "python",
   "pygments_lexer": "ipython2",
   "version": "2.7.6"
  }
 },
 "nbformat": 4,
 "nbformat_minor": 2
}
