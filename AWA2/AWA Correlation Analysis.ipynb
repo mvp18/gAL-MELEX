{
 "cells": [
  {
   "cell_type": "code",
   "execution_count": 1,
   "metadata": {
    "collapsed": true
   },
   "outputs": [],
   "source": [
    "import numpy as np\n",
    "from scipy import io"
   ]
  },
  {
   "cell_type": "code",
   "execution_count": 2,
   "metadata": {
    "collapsed": true
   },
   "outputs": [],
   "source": [
    "att_splits=io.loadmat('binaryAtt_splits.mat')\n",
    "class_list=[]\n",
    "classes = att_splits['allclasses_names']\n",
    "for i in range(classes.shape[0]):\n",
    "    class_list.append(classes[i][0][0])\n",
    "att_dict=dict(zip(class_list, att_splits['att'].transpose()))"
   ]
  },
  {
   "cell_type": "code",
   "execution_count": 3,
   "metadata": {
    "collapsed": true
   },
   "outputs": [],
   "source": [
    "res101=io.loadmat('../../resnet-feats/AWA2/res101.mat')\n",
    "train_loc = 'train_loc'\n",
    "val_loc = 'val_loc'\n",
    "test_loc = 'test_unseen_loc'\n",
    "\n",
    "train_classes=res101['labels'][np.squeeze(att_splits[train_loc]-1)]\n",
    "val_classes = res101['labels'][np.squeeze(att_splits[val_loc]-1)]\n",
    "test_classes = res101['labels'][np.squeeze(att_splits[test_loc]-1)]"
   ]
  },
  {
   "cell_type": "code",
   "execution_count": 4,
   "metadata": {
    "collapsed": true
   },
   "outputs": [],
   "source": [
    "class_dict=dict(zip(np.arange(1,51),class_list))\n",
    "train_count_dict={}\n",
    "for i in range(train_classes.shape[0]):\n",
    "    if class_dict[train_classes[i][0]] not in train_count_dict:\n",
    "        train_count_dict[class_dict[train_classes[i][0]]]=1\n",
    "    else:\n",
    "        train_count_dict[class_dict[train_classes[i][0]]]+=1\n",
    "\n",
    "val_count_dict={}\n",
    "for i in range(val_classes.shape[0]):\n",
    "    if class_dict[val_classes[i][0]] not in val_count_dict:\n",
    "        val_count_dict[class_dict[val_classes[i][0]]]=1\n",
    "    else:\n",
    "        val_count_dict[class_dict[val_classes[i][0]]]+=1\n",
    "        \n",
    "test_count_dict={}\n",
    "for i in range(test_classes.shape[0]):\n",
    "    if class_dict[test_classes[i][0]] not in test_count_dict:\n",
    "        test_count_dict[class_dict[test_classes[i][0]]]=1\n",
    "    else:\n",
    "        test_count_dict[class_dict[test_classes[i][0]]]+=1"
   ]
  },
  {
   "cell_type": "code",
   "execution_count": 7,
   "metadata": {},
   "outputs": [
    {
     "data": {
      "text/plain": [
       "{u'antelope': 1046,\n",
       " u'buffalo': 895,\n",
       " u'chihuahua': 567,\n",
       " u'collie': 1028,\n",
       " u'cow': 1338,\n",
       " u'elephant': 1038,\n",
       " u'fox': 664,\n",
       " u'german+shepherd': 1033,\n",
       " u'grizzly+bear': 852,\n",
       " u'hippopotamus': 684,\n",
       " u'humpback+whale': 709,\n",
       " u'killer+whale': 291,\n",
       " u'lion': 1019,\n",
       " u'mouse': 185,\n",
       " u'otter': 758,\n",
       " u'persian+cat': 747,\n",
       " u'pig': 713,\n",
       " u'polar+bear': 868,\n",
       " u'rhinoceros': 696,\n",
       " u'siamese+cat': 500,\n",
       " u'skunk': 188,\n",
       " u'spider+monkey': 291,\n",
       " u'squirrel': 1200,\n",
       " u'tiger': 877,\n",
       " u'weasel': 272,\n",
       " u'wolf': 589,\n",
       " u'zebra': 1170}"
      ]
     },
     "execution_count": 7,
     "metadata": {},
     "output_type": "execute_result"
    }
   ],
   "source": [
    "train_count_dict"
   ]
  },
  {
   "cell_type": "code",
   "execution_count": 6,
   "metadata": {},
   "outputs": [
    {
     "data": {
      "text/plain": [
       "{u'beaver': 193,\n",
       " u'chimpanzee': 728,\n",
       " u'dalmatian': 549,\n",
       " u'deer': 1344,\n",
       " u'giant+panda': 874,\n",
       " u'gorilla': 872,\n",
       " u'hamster': 779,\n",
       " u'leopard': 720,\n",
       " u'mole': 100,\n",
       " u'moose': 704,\n",
       " u'ox': 728,\n",
       " u'rabbit': 1088,\n",
       " u'raccoon': 512}"
      ]
     },
     "execution_count": 6,
     "metadata": {},
     "output_type": "execute_result"
    }
   ],
   "source": [
    "val_count_dict"
   ]
  },
  {
   "cell_type": "code",
   "execution_count": 8,
   "metadata": {},
   "outputs": [
    {
     "data": {
      "text/plain": [
       "{u'bat': 383,\n",
       " u'blue+whale': 174,\n",
       " u'bobcat': 630,\n",
       " u'dolphin': 946,\n",
       " u'giraffe': 1202,\n",
       " u'horse': 1645,\n",
       " u'rat': 310,\n",
       " u'seal': 988,\n",
       " u'sheep': 1420,\n",
       " u'walrus': 215}"
      ]
     },
     "execution_count": 8,
     "metadata": {},
     "output_type": "execute_result"
    }
   ],
   "source": [
    "test_count_dict"
   ]
  },
  {
   "cell_type": "code",
   "execution_count": 9,
   "metadata": {
    "collapsed": true
   },
   "outputs": [],
   "source": [
    "train_att_mat = np.zeros((85,27))\n",
    "for i,c in enumerate(train_count_dict):\n",
    "    for j in range(len(att_dict[c])):\n",
    "        train_att_mat[j,i]=train_count_dict[c]*float(att_dict[c][j])\n",
    "\n",
    "test_att_mat = np.array([att_dict[c] for c in test_count_dict]).transpose()"
   ]
  },
  {
   "cell_type": "code",
   "execution_count": 10,
   "metadata": {},
   "outputs": [
    {
     "name": "stderr",
     "output_type": "stream",
     "text": [
      "/Users/saneem/.local/lib/python2.7/site-packages/numpy/lib/function_base.py:2530: RuntimeWarning: invalid value encountered in true_divide\n",
      "  c /= stddev[:, None]\n",
      "/Users/saneem/.local/lib/python2.7/site-packages/numpy/lib/function_base.py:2531: RuntimeWarning: invalid value encountered in true_divide\n",
      "  c /= stddev[None, :]\n"
     ]
    }
   ],
   "source": [
    "corr_train = np.corrcoef(train_att_mat)\n",
    "nans = np.isnan(corr_train)\n",
    "corr_train[nans] = 0\n",
    "corr_test = np.corrcoef(test_att_mat)\n",
    "nans = np.isnan(corr_test)\n",
    "corr_test[nans] = 0\n",
    "def diff_corr(corr_train, corr_test):\n",
    "    dis_corr = (corr_train - corr_test)\n",
    "    dis_corr = np.sign(corr_train)*dis_corr\n",
    "    return dis_corr.clip(0,np.inf)\n",
    "dis_corr = diff_corr(corr_train, corr_test)"
   ]
  },
  {
   "cell_type": "code",
   "execution_count": 11,
   "metadata": {},
   "outputs": [
    {
     "data": {
      "text/plain": [
       "array([1.37847377, 1.24887192, 1.2421683 , 1.20601026, 1.1883171 ,\n",
       "       1.18100405, 1.16582975, 1.16143832, 1.14575675, 1.13895492,\n",
       "       1.13832586, 1.1274922 , 1.1223745 , 1.12071744, 1.11087316,\n",
       "       1.0982961 , 1.09686648, 1.09410581, 1.08511151, 1.08426758,\n",
       "       1.08028735, 1.07675972, 1.0663944 , 1.06163522, 1.05955693,\n",
       "       1.05490645, 1.05406105, 1.05227472, 1.04615403, 1.04296247,\n",
       "       1.03340746, 1.02869041, 1.0243094 , 1.01321552, 1.00751451,\n",
       "       1.00051293, 1.        , 0.9937323 , 0.98760194, 0.9761702 ,\n",
       "       0.9713637 , 0.9706541 , 0.94761049, 0.94013498, 0.93362923,\n",
       "       0.93316475, 0.91824749, 0.91284115, 0.90939682, 0.90907395,\n",
       "       0.90622544, 0.90081979, 0.89597616, 0.89584101, 0.89404109,\n",
       "       0.89321142, 0.89155743, 0.88731698, 0.87742519, 0.87528326,\n",
       "       0.8750126 , 0.87017908, 0.86387514, 0.8612793 , 0.86097501,\n",
       "       0.8605545 , 0.86026655, 0.86018638, 0.85943516, 0.85712408,\n",
       "       0.85382184, 0.85235935, 0.85109344, 0.85055855, 0.85027157,\n",
       "       0.85017688, 0.84980317, 0.84941496, 0.84912594, 0.84641371,\n",
       "       0.84227149, 0.84182022, 0.83986059, 0.83531524, 0.83423547,\n",
       "       0.82555394, 0.82212288, 0.82088668, 0.82087454, 0.8188262 ,\n",
       "       0.81623163, 0.81602755, 0.81497572, 0.81426682, 0.81169509,\n",
       "       0.8097501 , 0.80704279, 0.80572494, 0.80540035, 0.8049743 ])"
      ]
     },
     "execution_count": 11,
     "metadata": {},
     "output_type": "execute_result"
    }
   ],
   "source": [
    "dis_corr_triu = np.triu(dis_corr,1)\n",
    "loc = np.unravel_index(np.argsort(-dis_corr_triu, axis=None)[:100], dis_corr_triu.shape)\n",
    "dis_corr_triu[loc]"
   ]
  },
  {
   "cell_type": "code",
   "execution_count": 12,
   "metadata": {},
   "outputs": [
    {
     "data": {
      "text/plain": [
       "0.1754126830106494"
      ]
     },
     "execution_count": 12,
     "metadata": {},
     "output_type": "execute_result"
    }
   ],
   "source": [
    "dis_corr.mean()"
   ]
  },
  {
   "cell_type": "code",
   "execution_count": 13,
   "metadata": {},
   "outputs": [
    {
     "name": "stdout",
     "output_type": "stream",
     "text": [
      "('brown', 'furry')\n"
     ]
    }
   ],
   "source": [
    "text_file = open(u'predicates.txt', \"r\").readlines()\n",
    "predicates = [x.strip().split('\\t')[1] for x in text_file]\n",
    "print(predicates[3], predicates[11])"
   ]
  },
  {
   "cell_type": "markdown",
   "metadata": {},
   "source": [
    "-------------\n",
    "<br><br>\n",
    "### New splits with more correlation shift"
   ]
  },
  {
   "cell_type": "code",
   "execution_count": 14,
   "metadata": {
    "collapsed": true
   },
   "outputs": [],
   "source": [
    "class_count_dict = {}\n",
    "class_count_dict.update(train_count_dict)\n",
    "class_count_dict.update(val_count_dict)\n",
    "class_count_dict.update(test_count_dict)"
   ]
  },
  {
   "cell_type": "code",
   "execution_count": 15,
   "metadata": {
    "collapsed": true
   },
   "outputs": [],
   "source": [
    "def diff_corr(corr_train, corr_test):\n",
    "    dis_corr = (corr_train - corr_test)\n",
    "    dis_corr = np.sign(corr_train)*dis_corr\n",
    "    return dis_corr.clip(0,np.inf)"
   ]
  },
  {
   "cell_type": "code",
   "execution_count": 35,
   "metadata": {
    "collapsed": true
   },
   "outputs": [],
   "source": [
    "def get_corr_shift(class_count_dict, att_dict, train_class, test_class):\n",
    "    test_att_mat = []\n",
    "    train_att_mat = []\n",
    "    for cls in test_class:\n",
    "        test_att_mat.extend([att_dict[cls]]*class_count_dict[cls])\n",
    "    for cls in train_class:\n",
    "        train_att_mat.extend([att_dict[cls]]*class_count_dict[cls])\n",
    "    train_att_mat = np.array(train_att_mat).transpose()\n",
    "    test_att_mat = np.array(test_att_mat).transpose()\n",
    "    \n",
    "#     print train_att_mat.shape\n",
    "#     print test_att_mat.shape\n",
    "    corr_train = np.corrcoef(train_att_mat)\n",
    "    corr_train[np.isnan(corr_train)] = 0.\n",
    "    corr_test = np.corrcoef(test_att_mat)\n",
    "    corr_test[np.isnan(corr_test)] = 0.\n",
    "    \n",
    "    dis_corr = diff_corr(corr_train, corr_test)\n",
    "    \n",
    "    # correlation shift score: \n",
    "    # 1) mean\n",
    "    # corr_shift_score = np.mean(dis_corr)\n",
    "    \n",
    "    # 2) average of top n%\n",
    "    dis_corr_array = dis_corr.flatten()\n",
    "    top_percentage = 50\n",
    "    num_elements = int((top_percentage/100.)*len(dis_corr_array))\n",
    "    corr_shift_score = np.mean(dis_corr_array[np.argsort(dis_corr_array)[-num_elements:]])\n",
    "    \n",
    "    return corr_shift_score"
   ]
  },
  {
   "cell_type": "code",
   "execution_count": 17,
   "metadata": {},
   "outputs": [
    {
     "name": "stdout",
     "output_type": "stream",
     "text": [
      "1) giant+panda -> 0.3233002220967285\n",
      "2) bat -> 0.4886939098744928\n",
      "3) killer+whale -> 0.5242728603159342\n",
      "4) mole -> 0.5064746919731691\n",
      "5) skunk -> 0.48680739559277014\n",
      "6) mouse -> 0.47367739205107057\n",
      "7) weasel -> 0.4563231909419608\n",
      "8) rat -> 0.4454602641235778\n",
      "9) squirrel -> 0.4345784393529316\n",
      "10) german+shepherd -> 0.42765332369222586\n"
     ]
    }
   ],
   "source": [
    "selected_classes = []\n",
    "remaining_classes = class_count_dict.keys()\n",
    "for i in range(10):\n",
    "    best_cls = ''\n",
    "    best_score = -1.\n",
    "    for cls in remaining_classes:\n",
    "        new_sel = selected_classes[:]\n",
    "        new_sel.append(cls)\n",
    "        new_rem = remaining_classes[:]\n",
    "        new_rem.remove(cls)\n",
    "        shift_score = get_corr_shift(class_count_dict, att_dict, new_rem, new_sel)\n",
    "        if shift_score > best_score:\n",
    "            best_score = shift_score\n",
    "            best_cls = cls\n",
    "    selected_classes.append(best_cls)\n",
    "    remaining_classes.remove(best_cls)\n",
    "    print str(i+1) + ') ' + selected_classes[-1] + ' -> ' + str(best_score)\n",
    "\n",
    "test_set = selected_classes[:]\n",
    "train_val = remaining_classes[:]"
   ]
  },
  {
   "cell_type": "code",
   "execution_count": 18,
   "metadata": {},
   "outputs": [
    {
     "name": "stdout",
     "output_type": "stream",
     "text": [
      "1) rabbit -> 0.43170713286136303\n",
      "2) sheep -> 0.4374987343090049\n",
      "3) seal -> 0.4443838591105511\n",
      "4) dolphin -> 0.4497282445471947\n",
      "5) walrus -> 0.45316808252446583\n",
      "6) humpback+whale -> 0.45787289058961794\n",
      "7) collie -> 0.46167035529028144\n",
      "8) dalmatian -> 0.46690979464250465\n",
      "9) chihuahua -> 0.4712205439205069\n",
      "10) tiger -> 0.47357937268427974\n",
      "11) buffalo -> 0.4761565533655559\n",
      "12) wolf -> 0.479172709137453\n",
      "13) raccoon -> 0.4830754551757127\n"
     ]
    }
   ],
   "source": [
    "selected_classes = []\n",
    "remaining_classes = train_val[:]\n",
    "for i in range(13):\n",
    "    best_cls = ''\n",
    "    best_score = -1.\n",
    "    for cls in remaining_classes:\n",
    "        new_sel = selected_classes[:]\n",
    "        new_sel.append(cls)\n",
    "        new_rem = remaining_classes[:]\n",
    "        new_rem.remove(cls)\n",
    "        shift_score = get_corr_shift(class_count_dict, att_dict, new_rem, test_set)\n",
    "        if shift_score > best_score:\n",
    "            best_score = shift_score\n",
    "            best_cls = cls\n",
    "    selected_classes.append(best_cls)\n",
    "    remaining_classes.remove(best_cls)\n",
    "    print str(i+1) + ') ' + selected_classes[-1] + ' -> ' + str(best_score)\n",
    "train_set = remaining_classes[:]\n",
    "val_set = selected_classes[:]"
   ]
  },
  {
   "cell_type": "code",
   "execution_count": 36,
   "metadata": {},
   "outputs": [
    {
     "name": "stdout",
     "output_type": "stream",
     "text": [
      "0.4830754551757127\n",
      "0.3849257272402955\n"
     ]
    }
   ],
   "source": [
    "print get_corr_shift(class_count_dict, att_dict, train_set, test_set)\n",
    "print get_corr_shift(class_count_dict, att_dict, train_set, val_set)"
   ]
  },
  {
   "cell_type": "code",
   "execution_count": 37,
   "metadata": {},
   "outputs": [
    {
     "name": "stdout",
     "output_type": "stream",
     "text": [
      "0.3190513405454516\n",
      "0.3603091738962022\n"
     ]
    }
   ],
   "source": [
    "print get_corr_shift(class_count_dict, att_dict, train_count_dict.keys(), test_count_dict.keys())\n",
    "print get_corr_shift(class_count_dict, att_dict, train_count_dict.keys(), val_count_dict.keys())"
   ]
  },
  {
   "cell_type": "code",
   "execution_count": 33,
   "metadata": {},
   "outputs": [
    {
     "data": {
      "text/plain": [
       "32486"
      ]
     },
     "execution_count": 33,
     "metadata": {},
     "output_type": "execute_result"
    }
   ],
   "source": [
    "sum([class_count_dict[x] for x in train_set]) + sum([class_count_dict[x] for x in val_set])"
   ]
  },
  {
   "cell_type": "code",
   "execution_count": 34,
   "metadata": {},
   "outputs": [
    {
     "data": {
      "text/plain": [
       "4836"
      ]
     },
     "execution_count": 34,
     "metadata": {},
     "output_type": "execute_result"
    }
   ],
   "source": [
    "sum([class_count_dict[x] for x in test_set])"
   ]
  },
  {
   "cell_type": "code",
   "execution_count": 24,
   "metadata": {
    "collapsed": true
   },
   "outputs": [],
   "source": [
    "split_dict = {}\n",
    "split_dict['train_cls'] = train_set\n",
    "split_dict['val_cls'] = val_set\n",
    "split_dict['test_cls'] = test_set\n",
    "\n",
    "import pickle\n",
    "with open('awa_cs_split.npy', 'wb') as fp:\n",
    "    np.save(fp, split_dict)"
   ]
  },
  {
   "cell_type": "code",
   "execution_count": 27,
   "metadata": {},
   "outputs": [
    {
     "data": {
      "text/plain": [
       "{'test_cls': [u'giant+panda',\n",
       "  u'bat',\n",
       "  u'killer+whale',\n",
       "  u'mole',\n",
       "  u'skunk',\n",
       "  u'mouse',\n",
       "  u'weasel',\n",
       "  u'rat',\n",
       "  u'squirrel',\n",
       "  u'german+shepherd'],\n",
       " 'train_cls': [u'antelope',\n",
       "  u'blue+whale',\n",
       "  u'deer',\n",
       "  u'pig',\n",
       "  u'grizzly+bear',\n",
       "  u'beaver',\n",
       "  u'hippopotamus',\n",
       "  u'fox',\n",
       "  u'rhinoceros',\n",
       "  u'elephant',\n",
       "  u'moose',\n",
       "  u'bobcat',\n",
       "  u'persian+cat',\n",
       "  u'siamese+cat',\n",
       "  u'leopard',\n",
       "  u'horse',\n",
       "  u'chimpanzee',\n",
       "  u'giraffe',\n",
       "  u'otter',\n",
       "  u'polar+bear',\n",
       "  u'cow',\n",
       "  u'spider+monkey',\n",
       "  u'lion',\n",
       "  u'gorilla',\n",
       "  u'hamster',\n",
       "  u'ox',\n",
       "  u'zebra'],\n",
       " 'val_cls': [u'rabbit',\n",
       "  u'sheep',\n",
       "  u'seal',\n",
       "  u'dolphin',\n",
       "  u'walrus',\n",
       "  u'humpback+whale',\n",
       "  u'collie',\n",
       "  u'dalmatian',\n",
       "  u'chihuahua',\n",
       "  u'tiger',\n",
       "  u'buffalo',\n",
       "  u'wolf',\n",
       "  u'raccoon']}"
      ]
     },
     "execution_count": 27,
     "metadata": {},
     "output_type": "execute_result"
    }
   ],
   "source": [
    "sd = np.load('awa_cs_split.npy', allow_pickle=True)\n",
    "sd.item()"
   ]
  },
  {
   "cell_type": "markdown",
   "metadata": {},
   "source": [
    "<br>\n",
    "<br>\n",
    "<br>\n",
    "------------\n",
    "### Attribute importance by looking at test set"
   ]
  },
  {
   "cell_type": "code",
   "execution_count": 110,
   "metadata": {
    "collapsed": true
   },
   "outputs": [],
   "source": [
    "test_prior_matrix = []\n",
    "for cls in test_count_dict.keys():\n",
    "    test_prior_matrix.append(att_dict[cls])\n",
    "test_prior_matrix = np.array(test_prior_matrix)"
   ]
  },
  {
   "cell_type": "code",
   "execution_count": 168,
   "metadata": {
    "collapsed": true
   },
   "outputs": [],
   "source": [
    "def att_importance(cls_num, test_prior_matrix):\n",
    "    y = np.zeros(test_prior_matrix.shape[0])\n",
    "    y[cls_num] = 1\n",
    "    p = softmax(np.matmul(test_prior_matrix[cls_num], test_prior_matrix.transpose())*1.0)\n",
    "    return np.matmul(p - y, test_prior_matrix)"
   ]
  },
  {
   "cell_type": "code",
   "execution_count": 132,
   "metadata": {
    "collapsed": true
   },
   "outputs": [],
   "source": [
    "from scipy.special import softmax"
   ]
  },
  {
   "cell_type": "code",
   "execution_count": 114,
   "metadata": {
    "collapsed": true
   },
   "outputs": [],
   "source": [
    "cls_num = 2\n",
    "cls_vec = np.zeros(test_prior_matrix.shape[0])\n",
    "cls_vec[cls_num] = 1"
   ]
  },
  {
   "cell_type": "code",
   "execution_count": 127,
   "metadata": {},
   "outputs": [
    {
     "data": {
      "text/plain": [
       "(85,)"
      ]
     },
     "execution_count": 127,
     "metadata": {},
     "output_type": "execute_result"
    }
   ],
   "source": [
    "test_prior_matrix[cls_num].shape"
   ]
  },
  {
   "cell_type": "code",
   "execution_count": 128,
   "metadata": {},
   "outputs": [
    {
     "data": {
      "text/plain": [
       "(10, 85)"
      ]
     },
     "execution_count": 128,
     "metadata": {},
     "output_type": "execute_result"
    }
   ],
   "source": [
    "test_prior_matrix.shape"
   ]
  },
  {
   "cell_type": "code",
   "execution_count": 138,
   "metadata": {
    "collapsed": true
   },
   "outputs": [],
   "source": [
    "s = np.matmul(test_prior_matrix[cls_num], test_prior_matrix.transpose())*1.0"
   ]
  },
  {
   "cell_type": "code",
   "execution_count": 139,
   "metadata": {},
   "outputs": [
    {
     "data": {
      "text/plain": [
       "array([7.57217948e-10, 1.52091291e-08, 9.98630945e-01, 1.23240849e-04,\n",
       "       1.12381108e-07, 2.05833179e-09, 4.13426992e-08, 9.10633549e-04,\n",
       "       5.59512590e-09, 3.35003361e-04])"
      ]
     },
     "execution_count": 139,
     "metadata": {},
     "output_type": "execute_result"
    }
   ],
   "source": [
    "softmax(s)"
   ]
  },
  {
   "cell_type": "code",
   "execution_count": 176,
   "metadata": {
    "collapsed": true
   },
   "outputs": [],
   "source": [
    "weights = att_importance(4, test_prior_matrix)"
   ]
  },
  {
   "cell_type": "code",
   "execution_count": 171,
   "metadata": {},
   "outputs": [
    {
     "data": {
      "text/plain": [
       "array([42, 72, 16, 40, 47, 84,  1, 11,  0, 62, 57, 20, 79, 54, 26, 81, 70,\n",
       "       74, 68, 38, 45, 33, 63,  6, 10, 66, 19, 35, 60, 53,  2, 61, 21, 32,\n",
       "       29, 64, 65, 18, 36, 51, 75, 73, 71, 44, 34, 76, 77, 12, 37, 22, 82,\n",
       "       55, 48, 59, 69, 78, 31, 52, 56, 83, 49, 27, 15, 58, 30, 67,  5,  7,\n",
       "        9, 13, 28, 50,  4, 80, 24,  8, 23, 14, 41, 43, 25, 17, 46,  3, 39])"
      ]
     },
     "execution_count": 171,
     "metadata": {},
     "output_type": "execute_result"
    }
   ],
   "source": [
    "np.argsort(weights)"
   ]
  },
  {
   "cell_type": "code",
   "execution_count": 177,
   "metadata": {},
   "outputs": [
    {
     "data": {
      "image/png": "[encoded data removed]",
      "text/plain": [
       "<matplotlib.figure.Figure at 0x146168e90>"
      ]
     },
     "metadata": {},
     "output_type": "display_data"
    }
   ],
   "source": [
    "import matplotlib.pyplot as plt\n",
    "plt.bar(range(85),weights)\n",
    "plt.show()"
   ]
  },
  {
   "cell_type": "code",
   "execution_count": 163,
   "metadata": {},
   "outputs": [
    {
     "data": {
      "text/plain": [
       "u'sheep'"
      ]
     },
     "execution_count": 163,
     "metadata": {},
     "output_type": "execute_result"
    }
   ],
   "source": [
    "test_count_dict.keys()[0]"
   ]
  },
  {
   "cell_type": "code",
   "execution_count": 160,
   "metadata": {},
   "outputs": [
    {
     "data": {
      "text/plain": [
       "[u'sheep',\n",
       " u'bat',\n",
       " u'blue+whale',\n",
       " u'dolphin',\n",
       " u'horse',\n",
       " u'rat',\n",
       " u'giraffe',\n",
       " u'seal',\n",
       " u'bobcat',\n",
       " u'walrus']"
      ]
     },
     "execution_count": 160,
     "metadata": {},
     "output_type": "execute_result"
    }
   ],
   "source": [
    "test_count_dict.keys()"
   ]
  },
  {
   "cell_type": "code",
   "execution_count": 155,
   "metadata": {},
   "outputs": [
    {
     "name": "stdout",
     "output_type": "stream",
     "text": [
      "     1\tblack\r\n",
      "     2\twhite\r\n",
      "     3\tblue\r\n",
      "     4\tbrown\r\n",
      "     5\tgray\r\n",
      "     6\torange\r\n",
      "     7\tred\r\n",
      "     8\tyellow\r\n",
      "     9\tpatches\r\n",
      "    10\tspots\r\n",
      "    11\tstripes\r\n",
      "    12\tfurry\r\n",
      "    13\thairless\r\n",
      "    14\ttoughskin\r\n",
      "    15\tbig\r\n",
      "    16\tsmall\r\n",
      "    17\tbulbous\r\n",
      "    18\tlean\r\n",
      "    19\tflippers\r\n",
      "    20\thands\r\n",
      "    21\thooves\r\n",
      "    22\tpads\r\n",
      "    23\tpaws\r\n",
      "    24\tlongleg\r\n",
      "    25\tlongneck\r\n",
      "    26\ttail\r\n",
      "    27\tchewteeth\r\n",
      "    28\tmeatteeth\r\n",
      "    29\tbuckteeth\r\n",
      "    30\tstrainteeth\r\n",
      "    31\thorns\r\n",
      "    32\tclaws\r\n",
      "    33\ttusks\r\n",
      "    34\tsmelly\r\n",
      "    35\tflys\r\n",
      "    36\thops\r\n",
      "    37\tswims\r\n",
      "    38\ttunnels\r\n",
      "    39\twalks\r\n",
      "    40\tfast\r\n",
      "    41\tslow\r\n",
      "    42\tstrong\r\n",
      "    43\tweak\r\n",
      "    44\tmuscle\r\n",
      "    45\tbipedal\r\n",
      "    46\tquadrapedal\r\n",
      "    47\tactive\r\n",
      "    48\tinactive\r\n",
      "    49\tnocturnal\r\n",
      "    50\thibernate\r\n",
      "    51\tagility\r\n",
      "    52\tfish\r\n",
      "    53\tmeat\r\n",
      "    54\tplankton\r\n",
      "    55\tvegetation\r\n",
      "    56\tinsects\r\n",
      "    57\tforager\r\n",
      "    58\tgrazer\r\n",
      "    59\thunter\r\n",
      "    60\tscavenger\r\n",
      "    61\tskimmer\r\n",
      "    62\tstalker\r\n",
      "    63\tnewworld\r\n",
      "    64\toldworld\r\n",
      "    65\tarctic\r\n",
      "    66\tcoastal\r\n",
      "    67\tdesert\r\n",
      "    68\tbush\r\n",
      "    69\tplains\r\n",
      "    70\tforest\r\n",
      "    71\tfields\r\n",
      "    72\tjungle\r\n",
      "    73\tmountains\r\n",
      "    74\tocean\r\n",
      "    75\tground\r\n",
      "    76\twater\r\n",
      "    77\ttree\r\n",
      "    78\tcave\r\n",
      "    79\tfierce\r\n",
      "    80\ttimid\r\n",
      "    81\tsmart\r\n",
      "    82\tgroup\r\n",
      "    83\tsolitary\r\n",
      "    84\tnestspot\r\n",
      "    85\tdomestic\r\n"
     ]
    }
   ],
   "source": [
    "cat predicates.txt"
   ]
  },
  {
   "cell_type": "code",
   "execution_count": 178,
   "metadata": {},
   "outputs": [
    {
     "name": "stdout",
     "output_type": "stream",
     "text": [
      "sheep 0.0009011936377918655\n",
      "bat -2.1535645599430375e-08\n",
      "blue+whale 1.8538881403016126e-05\n",
      "dolphin 0.0009005049376776564\n",
      "horse -1.5974899245290509e-06\n",
      "rat -1.467983527378678e-09\n",
      "giraffe 3.2149751815621104e-05\n",
      "seal -1.9605352098004134e-05\n",
      "bobcat 1.1743749805114328e-06\n",
      "walrus 7.558287260720528e-06\n"
     ]
    }
   ],
   "source": [
    "for i in range(10):\n",
    "    weights = att_importance(i, test_prior_matrix)\n",
    "    print test_count_dict.keys()[i], np.mean(weights)"
   ]
  },
  {
   "cell_type": "code",
   "execution_count": 187,
   "metadata": {},
   "outputs": [
    {
     "data": {
      "text/plain": [
       "array([[ 0, 40, 37, 35, 21, 36, 24, 35, 42, 35],\n",
       "       [40,  0, 47, 39, 39, 26, 48, 39, 30, 41],\n",
       "       [37, 47,  0, 16, 38, 49, 37, 16, 45, 16],\n",
       "       [35, 39, 16,  0, 24, 43, 35, 12, 41, 20],\n",
       "       [21, 39, 38, 24,  0, 31, 17, 30, 37, 36],\n",
       "       [36, 26, 49, 43, 31,  0, 44, 41, 22, 45],\n",
       "       [24, 48, 37, 35, 17, 44,  0, 37, 36, 39],\n",
       "       [35, 39, 16, 12, 30, 41, 37,  0, 41, 18],\n",
       "       [42, 30, 45, 41, 37, 22, 36, 41,  0, 51],\n",
       "       [35, 41, 16, 20, 36, 45, 39, 18, 51,  0]], dtype=uint8)"
      ]
     },
     "execution_count": 187,
     "metadata": {},
     "output_type": "execute_result"
    }
   ],
   "source": [
    "85 - (np.matmul(test_prior_matrix, test_prior_matrix.transpose()) + np.matmul(1 - test_prior_matrix, 1 - test_prior_matrix.transpose()))"
   ]
  },
  {
   "cell_type": "code",
   "execution_count": 193,
   "metadata": {
    "collapsed": true
   },
   "outputs": [],
   "source": [
    "cls_num = 0\n",
    "y = np.zeros(test_prior_matrix.shape[0])\n",
    "y[cls_num] = 1\n",
    "p = softmax(np.matmul(test_prior_matrix[cls_num], test_prior_matrix.transpose())*1.0)"
   ]
  },
  {
   "cell_type": "code",
   "execution_count": 194,
   "metadata": {},
   "outputs": [
    {
     "data": {
      "text/plain": [
       "array([9.92952102e-01, 6.10090857e-06, 1.11742038e-07, 1.11742038e-07,\n",
       "       6.69045863e-03, 1.65839889e-05, 3.33098321e-04, 8.25668189e-07,\n",
       "       3.03746352e-07, 3.03746352e-07])"
      ]
     },
     "execution_count": 194,
     "metadata": {},
     "output_type": "execute_result"
    }
   ],
   "source": [
    "p"
   ]
  },
  {
   "cell_type": "code",
   "execution_count": 199,
   "metadata": {
    "collapsed": true
   },
   "outputs": [],
   "source": [
    "x = np.matmul(test_prior_matrix, test_prior_matrix.transpose())"
   ]
  },
  {
   "cell_type": "code",
   "execution_count": 203,
   "metadata": {},
   "outputs": [
    {
     "data": {
      "text/plain": [
       "array([0.51304348, 0.45128205, 0.51785714, 0.58846154, 0.55588235,\n",
       "       0.46486486, 0.49032258, 0.57      , 0.45142857, 0.51785714])"
      ]
     },
     "execution_count": 203,
     "metadata": {},
     "output_type": "execute_result"
    }
   ],
   "source": [
    "x.mean(axis=0)/ np.sum(test_prior_matrix, axis=1)"
   ]
  },
  {
   "cell_type": "code",
   "execution_count": 204,
   "metadata": {},
   "outputs": [
    {
     "data": {
      "text/plain": [
       "array([23, 39, 28, 26, 34, 37, 31, 30, 35, 28], dtype=uint64)"
      ]
     },
     "execution_count": 204,
     "metadata": {},
     "output_type": "execute_result"
    }
   ],
   "source": [
    "np.sum(test_prior_matrix, axis=1)"
   ]
  },
  {
   "cell_type": "code",
   "execution_count": 206,
   "metadata": {},
   "outputs": [
    {
     "data": {
      "text/plain": [
       "array([118, 176, 145, 153, 189, 172, 152, 171, 158, 145], dtype=uint64)"
      ]
     },
     "execution_count": 206,
     "metadata": {},
     "output_type": "execute_result"
    }
   ],
   "source": [
    "x.sum(axis=0)"
   ]
  },
  {
   "cell_type": "code",
   "execution_count": 227,
   "metadata": {},
   "outputs": [
    {
     "data": {
      "text/plain": [
       "[array([1, 0, 0, 1, 1, 0, 0, 0, 0, 0, 0, 1, 1, 1, 0, 1, 0, 1, 0, 0, 0, 0,\n",
       "        0, 0, 0, 0, 1, 1, 0, 0, 0, 1, 0, 1, 1, 0, 0, 0, 0, 1, 0, 0, 1, 1,\n",
       "        1, 0, 1, 1, 1, 1, 1, 0, 1, 0, 1, 1, 1, 0, 1, 1, 0, 0, 1, 1, 0, 0,\n",
       "        0, 0, 0, 1, 0, 1, 1, 0, 0, 0, 1, 1, 1, 0, 1, 1, 0, 1, 0],\n",
       "       dtype=uint8),\n",
       " array([1, 0, 0, 1, 1, 0, 0, 0, 0, 0, 0, 1, 1, 1, 0, 1, 0, 1, 0, 0, 0, 0,\n",
       "        0, 0, 0, 0, 1, 1, 0, 0, 0, 1, 0, 1, 1, 0, 0, 0, 0, 1, 0, 0, 1, 1,\n",
       "        1, 0, 1, 1, 1, 1, 1, 0, 1, 0, 1, 1, 1, 0, 1, 1, 0, 0, 1, 1, 0, 0,\n",
       "        0, 0, 0, 1, 0, 1, 1, 0, 0, 0, 1, 1, 1, 0, 1, 1, 0, 1, 0],\n",
       "       dtype=uint8)]"
      ]
     },
     "execution_count": 227,
     "metadata": {},
     "output_type": "execute_result"
    }
   ],
   "source": [
    "[att_dict['bat']]*2"
   ]
  },
  {
   "cell_type": "code",
   "execution_count": null,
   "metadata": {
    "collapsed": true
   },
   "outputs": [],
   "source": []
  }
 ],
 "metadata": {
  "kernelspec": {
   "display_name": "Python 2",
   "language": "python",
   "name": "python2"
  },
  "language_info": {
   "codemirror_mode": {
    "name": "ipython",
    "version": 2
   },
   "file_extension": ".py",
   "mimetype": "text/x-python",
   "name": "python",
   "nbconvert_exporter": "python",
   "pygments_lexer": "ipython2",
   "version": "2.7.6"
  }
 },
 "nbformat": 4,
 "nbformat_minor": 2
}
